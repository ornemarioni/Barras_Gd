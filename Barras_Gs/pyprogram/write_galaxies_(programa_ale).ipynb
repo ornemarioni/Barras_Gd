{
 "cells": [
  {
   "cell_type": "code",
   "execution_count": 1,
   "metadata": {
    "collapsed": false
   },
   "outputs": [
    {
     "name": "stdout",
     "output_type": "stream",
     "text": [
      "Populating the interactive namespace from numpy and matplotlib\n"
     ]
    }
   ],
   "source": [
    "%pylab inline"
   ]
  },
  {
   "cell_type": "code",
   "execution_count": 3,
   "metadata": {
    "collapsed": false
   },
   "outputs": [
    {
     "ename": "ImportError",
     "evalue": "No module named gadget_reader",
     "output_type": "error",
     "traceback": [
      "\u001b[0;31m---------------------------------------------------------------------------\u001b[0m",
      "\u001b[0;31mImportError\u001b[0m                               Traceback (most recent call last)",
      "\u001b[0;32m<ipython-input-3-7f04c46d6c76>\u001b[0m in \u001b[0;36m<module>\u001b[0;34m()\u001b[0m\n\u001b[1;32m      1\u001b[0m \u001b[0;32mimport\u001b[0m \u001b[0mh5py\u001b[0m\u001b[0;34m\u001b[0m\u001b[0m\n\u001b[1;32m      2\u001b[0m \u001b[0;32mimport\u001b[0m \u001b[0mnumpy\u001b[0m \u001b[0;32mas\u001b[0m \u001b[0mnp\u001b[0m\u001b[0;34m\u001b[0m\u001b[0m\n\u001b[0;32m----> 3\u001b[0;31m \u001b[0;32mimport\u001b[0m \u001b[0mgadget_reader\u001b[0m \u001b[0;32mas\u001b[0m \u001b[0mgd\u001b[0m\u001b[0;34m\u001b[0m\u001b[0m\n\u001b[0m\u001b[1;32m      4\u001b[0m \u001b[0;32mimport\u001b[0m \u001b[0msubfind\u001b[0m \u001b[0;32mas\u001b[0m \u001b[0msb\u001b[0m\u001b[0;34m\u001b[0m\u001b[0m\n\u001b[1;32m      5\u001b[0m \u001b[0;32mimport\u001b[0m \u001b[0msys\u001b[0m\u001b[0;34m\u001b[0m\u001b[0m\n",
      "\u001b[0;31mImportError\u001b[0m: No module named gadget_reader"
     ]
    }
   ],
   "source": [
    "import h5py\n",
    "import numpy as np\n",
    "import gadget_reader as gd\n",
    "import subfind as sb\n",
    "import sys\n",
    "\n",
    "path = '/home/alejandro/data1/clues/sph/wmap3_4096/gas_sf/snaps'\n",
    "lalala\n",
    "a = sb.subfind('/mnt/sersic2/alejandro/CLUES/CDM/subfind', 497)\n",
    "\n",
    "\n",
    "sample = [0,1,3,9,13,14,18,19,20,21]\n",
    "snaps = np.arange(0,498)\n",
    "\n",
    "ini = int(sys.argv[1])\n",
    "step = int(sys.argv[2])\n",
    "\n",
    "for i in snaps[ini::step]:\n",
    "    print 'Reading file', i\n",
    "    output_file = h5py.File('outputs_1/snap_'+str('%03d'% i)+'.h5py', 'a')\n",
    "    snap = gd.Open(path+'/snap_'+str('%03d'% i), endian='Big', gadget_type=2, verbose=False)\n",
    "#    pgas = snap.Read('POS ', 0)\n",
    "#    vgas = snap.Read('VEL ', 0)\n",
    "#    pdrk = snap.Read('POS ', 1)\n",
    "#    vdrk = snap.Read('VEL ', 1)\n",
    "#\n",
    "#    rhogas = snap.Read('RHO ', 0)\n",
    "#    tempgas = snap.Read('U   ', 0)\n",
    "    if(snap.npart[4] > 0):\n",
    "        age  = snap.Read('AGE ', 4)\n",
    "        pstr = snap.Read('POS ', 4)\n",
    "        vstr = snap.Read('VEL ', 4)\n",
    "        mstr = snap.Read('MASS', 4)\n",
    "        zmet = snap.Read('Z   ', 4)\n",
    "        str_id = snap.Read('ID  ', 4)\n",
    "\n",
    "#    mgas = snap.Read('MASS', 0)\n",
    "#    mdrk = snap.Read('MASS', 1)\n",
    "#    zmet = snap.Read('Z   ', 4)\n",
    "#\n",
    "#    gas_id = snap.Read('ID  ', 0)\n",
    "#    drk_id = snap.Read('ID  ', 1)\n",
    "\n",
    "    for j in sample:\n",
    "        hnumber = a.GroupFirstSub[j]\n",
    "        mvir = np.loadtxt('/mnt/sersic2/alejandro/CLUES/CDM/mvir/mvir_'+str('%04d'% hnumber)+'.txt')\n",
    "        center = np.loadtxt('/mnt/sersic2/alejandro/CLUES/CDM/centers/center_'+str('%04d'% hnumber)+'.txt')[::-1]\n",
    "\n",
    "        xc = center[i,2]\n",
    "        yc = center[i,3]\n",
    "        zc = center[i,4]\n",
    "    \n",
    "        r200 = mvir[i,2]\n",
    "        time = mvir[i,1]\n",
    "\n",
    "        if(snap.npart[4] > 0):\n",
    "            rstr = np.sqrt( (pstr[0,:]-xc)**2+\n",
    "                            (pstr[1,:]-yc)**2+\n",
    "                            (pstr[2,:]-zc)**2 )\n",
    "\n",
    "\n",
    "#        rgas = np.sqrt( (pgas[0,:]-xc)**2+\n",
    "#                        (pgas[1,:]-yc)**2+\n",
    "#                        (pgas[2,:]-zc)**2 )\n",
    "#\n",
    "#        rdrk = np.sqrt( (pdrk[0,:]-xc)**2+\n",
    "#                        (pdrk[1,:]-yc)**2+\n",
    "#                        (pdrk[2,:]-zc)**2 )\n",
    "\n",
    "        if(snap.npart[4] > 0):\n",
    "            kstr, = np.where(rstr < 200)\n",
    "        else:\n",
    "            kstr = []\n",
    "\n",
    "#        kdrk, = np.where(rdrk < 200)\n",
    "#        kgas, = np.where(rgas < 200)\n",
    "\n",
    "\n",
    "#        output_file.create_dataset('/subhalo_'+str('%03d'% j)+'/Time', data=time)\n",
    "#        output_file.create_dataset('/subhalo_'+str('%03d'% j)+'/R200', data=r200)\n",
    "#        output_file.create_dataset('/subhalo_'+str('%03d'% j)+'/Center', data=np.array([xc,yc,zc]))\n",
    "\n",
    "#        output_file.create_dataset('/subhalo_'+str('%03d'% j)+'/Gas/Coordinates',    data=pgas[:,kgas].T, dtype=np.float32)\n",
    "#        output_file.create_dataset('/subhalo_'+str('%03d'% j)+'/Gas/Velocities',     data=vgas[:,kgas].T, dtype=np.float32)\n",
    "#        output_file.create_dataset('/subhalo_'+str('%03d'% j)+'/Gas/Masses',         data=mgas[kgas], dtype=np.float32)\n",
    "#        output_file.create_dataset('/subhalo_'+str('%03d'% j)+'/Gas/Density',        data=rhogas[kgas], dtype=np.float32)\n",
    "#        output_file.create_dataset('/subhalo_'+str('%03d'% j)+'/Gas/InternalEnergy', data=tempgas[kgas], dtype=np.float32)\n",
    "#        output_file.create_dataset('/subhalo_'+str('%03d'% j)+'/Gas/Ids',            data=gas_id[kgas])\n",
    "\n",
    "#        output_file.create_dataset('/subhalo_'+str('%03d'% j)+'/Drk/Coordinates',    data=pdrk[:,kdrk].T, dtype=np.float32)\n",
    "#        output_file.create_dataset('/subhalo_'+str('%03d'% j)+'/Drk/Velocities',     data=vdrk[:,kdrk].T, dtype=np.float32)\n",
    "#        output_file.create_dataset('/subhalo_'+str('%03d'% j)+'/Drk/Masses',         data=mdrk[kdrk], dtype=np.float32)\n",
    "#        output_file.create_dataset('/subhalo_'+str('%03d'% j)+'/Drk/Ids',            data=drk_id[kdrk])\n",
    "\n",
    "        if( (snap.npart[4] > 0) & (np.size(kstr) > 0) ):\n",
    "            output_file.create_dataset('/subhalo_'+str('%03d'% j)+'/Str/Coordinates',    data=pstr[:,kstr].T, dtype=np.float32)\n",
    "            output_file.create_dataset('/subhalo_'+str('%03d'% j)+'/Str/Velocities',     data=vstr[:,kstr].T, dtype=np.float32)\n",
    "            output_file.create_dataset('/subhalo_'+str('%03d'% j)+'/Str/Masses',         data=mstr[kstr], dtype=np.float32)\n",
    "            output_file.create_dataset('/subhalo_'+str('%03d'% j)+'/Str/FormationTime',  data=age[kstr], dtype=np.float32)\n",
    "            output_file.create_dataset('/subhalo_'+str('%03d'% j)+'/Str/Metallicity',    data=zmet[kstr], dtype=np.float32)\n",
    "            output_file.create_dataset('/subhalo_'+str('%03d'% j)+'/Str/Ids',            data=str_id[kstr])\n",
    "\n",
    "\n",
    "    output_file.close()\n",
    "\n",
    "    \n",
    "\n",
    "\n",
    "\n",
    "    \n",
    "\n",
    "    \n",
    "    \n",
    "\n"
   ]
  },
  {
   "cell_type": "code",
   "execution_count": null,
   "metadata": {
    "collapsed": true
   },
   "outputs": [],
   "source": []
  }
 ],
 "metadata": {
  "anaconda-cloud": {},
  "kernelspec": {
   "display_name": "Python [default]",
   "language": "python",
   "name": "python2"
  },
  "language_info": {
   "codemirror_mode": {
    "name": "ipython",
    "version": 2
   },
   "file_extension": ".py",
   "mimetype": "text/x-python",
   "name": "python",
   "nbconvert_exporter": "python",
   "pygments_lexer": "ipython2",
   "version": "2.7.12"
  }
 },
 "nbformat": 4,
 "nbformat_minor": 1
}
