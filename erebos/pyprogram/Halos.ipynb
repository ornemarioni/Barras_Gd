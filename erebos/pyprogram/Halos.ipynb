{
 "cells": [
  {
   "cell_type": "code",
   "execution_count": 4,
   "metadata": {
    "collapsed": false
   },
   "outputs": [
    {
     "name": "stdout",
     "output_type": "stream",
     "text": [
      "Populating the interactive namespace from numpy and matplotlib\n"
     ]
    }
   ],
   "source": [
    "'''ESTE PROGRAMA ERA PARA SABER CON QUE HALOS TRABAJAMOS'''\n",
    "%pylab inline"
   ]
  },
  {
   "cell_type": "code",
   "execution_count": 5,
   "metadata": {
    "collapsed": true
   },
   "outputs": [],
   "source": [
    "\"\"\"Reading the simulations\"\"\"\n",
    "\n",
    "import matplotlib.pyplot as plt \n",
    "import numpy as np\n",
    "import pynbody\n",
    "\n",
    "\n",
    "s=pynbody.load('/srv/cosmdatc/clues/B64_WM3_186592/LG/GAS_SFR/4096_Gasoline/1024/WMAP3.CLUES.HR.001024')\n",
    "h = s.halos()"
   ]
  },
  {
   "cell_type": "code",
   "execution_count": 3,
   "metadata": {
    "collapsed": false
   },
   "outputs": [
    {
     "name": "stdout",
     "output_type": "stream",
     "text": [
      "[  1.62413716e-03   1.04655325e-03   1.05093420e-03 ...,   2.08616257e-07\n",
      "   3.42726707e-07   5.81145287e-07]\n"
     ]
    }
   ],
   "source": [
    "'''NO COMPILAR'''#prueba \n",
    "\n",
    "h1 = h[1]\n",
    "\n",
    "#cen_hyb = pynbody.analysis.halo.center(h1,mode='hyb',retcen=True)\n",
    "cen_pot = pynbody.analysis.halo.center(h1,mode='pot',retcen=True)\n",
    "\n",
    "h1['pos'] -= cen_pot\n",
    "\n",
    "print h1['pos'][:,0]\n"
   ]
  },
  {
   "cell_type": "code",
   "execution_count": 16,
   "metadata": {
    "collapsed": false
   },
   "outputs": [
    {
     "name": "stdout",
     "output_type": "stream",
     "text": [
      " 4383041 1\n",
      "2942917 2\n",
      "1561636 4\n"
     ]
    }
   ],
   "source": [
    "'''NO COMPILAR'''#prueba\n",
    "vector = ('1','2','4')\n",
    "vec=(1,2,4)\n",
    "for i in range(0,3):\n",
    "    h1 = h[vec[i]]\n",
    "    \n",
    "    print len(h1), '%s'%vec[i]\n",
    "    "
   ]
  },
  {
   "cell_type": "code",
   "execution_count": 15,
   "metadata": {
    "collapsed": false
   },
   "outputs": [
    {
     "name": "stdout",
     "output_type": "stream",
     "text": [
      "vamos por el halo 1\n",
      "-----------------------------\n",
      "vamos por el halo 2\n",
      "-----------------------------\n",
      "vamos por el halo 3\n",
      "-----------------------------\n",
      "vamos por el halo 4\n",
      "-----------------------------\n",
      "vamos por el halo 5\n",
      "-----------------------------\n",
      "vamos por el halo 6\n",
      "-----------------------------\n",
      "vamos por el halo 7\n",
      "-----------------------------\n",
      "vamos por el halo 8\n",
      "-----------------------------\n",
      "vamos por el halo 9\n",
      "-----------------------------\n",
      "vamos por el halo 10\n",
      "-----------------------------\n"
     ]
    }
   ],
   "source": [
    "#Caculamos la masa virial de cada halo\n",
    "masas =[]\n",
    "index =[]\n",
    "for i in range(1,11):\n",
    "\n",
    "    h1 = h[i]\n",
    "\n",
    "    cen_pot = pynbody.analysis.halo.center(h1,mode='pot',retcen=True)\n",
    "\n",
    "    r200= pynbody.analysis.halo.virial_radius(h1,cen=cen_pot).in_units('kpc')\n",
    "    #print r200\n",
    "    \n",
    "    print 'vamos por el halo', i\n",
    "\n",
    "    h1['pos'] -= cen_pot\n",
    "\n",
    "    xstr=(h1.star['pos'].in_units('kpc'))[:,0]\n",
    "    ystr=(h1.star['pos'].in_units('kpc'))[:,1]\n",
    "    zstr=(h1.star['pos'].in_units('kpc'))[:,2]\n",
    "    r = np.sqrt(xstr**2+ystr**2+zstr**2)\n",
    "\n",
    "    xgas=(h1.gas['pos'].in_units('kpc'))[:,0]\n",
    "    ygas=(h1.gas['pos'].in_units('kpc'))[:,1]\n",
    "    zgas=(h1.gas['pos'].in_units('kpc'))[:,2]\n",
    "    rgas = np.sqrt(xgas**2+ygas**2+zgas**2)\n",
    "\n",
    "    xdrk=(h1.dm['pos'].in_units('kpc'))[:,0]\n",
    "    ydrk=(h1.dm['pos'].in_units('kpc'))[:,1]\n",
    "    zdrk=(h1.dm['pos'].in_units('kpc'))[:,2]\n",
    "    rdrk = np.sqrt(xdrk**2+ydrk**2+zdrk**2)\n",
    "\n",
    "    m_str = h1.star['mass'].in_units('Msol')\n",
    "    m_gas = h1.gas['mass'].in_units('Msol')\n",
    "    m_drk = h1.dm['mass'].in_units('Msol')\n",
    "    \n",
    "    print '-----------------------------'\n",
    "\n",
    "    rtot= concatenate([r,rgas,rdrk])\n",
    "\n",
    "    mtot= concatenate([m_str, m_gas, m_drk])\n",
    "\n",
    "    limit_tot = np.where(rtot<r200)\n",
    "    rtot_sort = np.sort(rtot[limit_tot])\n",
    "    rtot_indice = np.argsort(rtot[limit_tot])\n",
    "\n",
    "    Mc_tot = cumsum((mtot[limit_tot])[rtot_indice])\n",
    "    Mtot = Mc_tot[-1]\n",
    "    \n",
    "    masas.append(Mtot)\n",
    "    index.append(i)\n",
    "\n",
    "    #print Mtot\n",
    "    \n"
   ]
  },
  {
   "cell_type": "code",
   "execution_count": 16,
   "metadata": {
    "collapsed": true
   },
   "outputs": [],
   "source": [
    "d = np.ndarray([len(masas),2])\n",
    "d[:,0] = index\n",
    "d[:,1] = masas"
   ]
  },
  {
   "cell_type": "code",
   "execution_count": 17,
   "metadata": {
    "collapsed": false
   },
   "outputs": [
    {
     "name": "stdout",
     "output_type": "stream",
     "text": [
      "[[  1.00000000e+00   7.20888940e+11]\n",
      " [  2.00000000e+00   5.28680012e+11]\n",
      " [  3.00000000e+00   8.35516109e+12]\n",
      " [  4.00000000e+00   2.65682180e+11]\n",
      " [  5.00000000e+00   3.11616411e+11]\n",
      " [  6.00000000e+00   5.85313136e+12]\n",
      " [  7.00000000e+00   2.77817140e+11]\n",
      " [  8.00000000e+00   2.23506498e+11]\n",
      " [  9.00000000e+00   2.62541573e+13]\n",
      " [  1.00000000e+01   1.86248887e+11]]\n"
     ]
    }
   ],
   "source": [
    "print d"
   ]
  },
  {
   "cell_type": "code",
   "execution_count": 18,
   "metadata": {
    "collapsed": false
   },
   "outputs": [
    {
     "name": "stdout",
     "output_type": "stream",
     "text": [
      "vamos por el halo 11\n",
      "-----------------------------\n",
      "vamos por el halo 12\n",
      "-----------------------------\n",
      "vamos por el halo 13\n",
      "-----------------------------\n",
      "vamos por el halo 14\n",
      "-----------------------------\n",
      "vamos por el halo 15\n",
      "-----------------------------\n",
      "vamos por el halo 16\n",
      "-----------------------------\n",
      "vamos por el halo 17\n",
      "-----------------------------\n",
      "vamos por el halo 18\n",
      "-----------------------------\n",
      "vamos por el halo 19\n",
      "-----------------------------\n",
      "vamos por el halo 20\n",
      "-----------------------------\n",
      "vamos por el halo 21\n",
      "-----------------------------\n",
      "vamos por el halo 22\n",
      "-----------------------------\n",
      "vamos por el halo 23\n",
      "-----------------------------\n",
      "vamos por el halo 24\n",
      "-----------------------------\n",
      "vamos por el halo 25\n",
      "-----------------------------\n"
     ]
    }
   ],
   "source": [
    "#Caculamos la masa virial de cada halo (de 11 a 25)\n",
    "masas =[]\n",
    "index =[]\n",
    "for i in range(11,26):\n",
    "\n",
    "    h1 = h[i]\n",
    "\n",
    "    cen_pot = pynbody.analysis.halo.center(h1,mode='pot',retcen=True)\n",
    "\n",
    "    r200= pynbody.analysis.halo.virial_radius(h1,cen=cen_pot).in_units('kpc')\n",
    "    #print r200\n",
    "    \n",
    "    print 'vamos por el halo', i\n",
    "\n",
    "    h1['pos'] -= cen_pot\n",
    "\n",
    "    xstr=(h1.star['pos'].in_units('kpc'))[:,0]\n",
    "    ystr=(h1.star['pos'].in_units('kpc'))[:,1]\n",
    "    zstr=(h1.star['pos'].in_units('kpc'))[:,2]\n",
    "    r = np.sqrt(xstr**2+ystr**2+zstr**2)\n",
    "\n",
    "    xgas=(h1.gas['pos'].in_units('kpc'))[:,0]\n",
    "    ygas=(h1.gas['pos'].in_units('kpc'))[:,1]\n",
    "    zgas=(h1.gas['pos'].in_units('kpc'))[:,2]\n",
    "    rgas = np.sqrt(xgas**2+ygas**2+zgas**2)\n",
    "\n",
    "    xdrk=(h1.dm['pos'].in_units('kpc'))[:,0]\n",
    "    ydrk=(h1.dm['pos'].in_units('kpc'))[:,1]\n",
    "    zdrk=(h1.dm['pos'].in_units('kpc'))[:,2]\n",
    "    rdrk = np.sqrt(xdrk**2+ydrk**2+zdrk**2)\n",
    "\n",
    "    m_str = h1.star['mass'].in_units('Msol')\n",
    "    m_gas = h1.gas['mass'].in_units('Msol')\n",
    "    m_drk = h1.dm['mass'].in_units('Msol')\n",
    "    \n",
    "    print '-----------------------------'\n",
    "\n",
    "    rtot= concatenate([r,rgas,rdrk])\n",
    "\n",
    "    mtot= concatenate([m_str, m_gas, m_drk])\n",
    "\n",
    "    limit_tot = np.where(rtot<r200)\n",
    "    rtot_sort = np.sort(rtot[limit_tot])\n",
    "    rtot_indice = np.argsort(rtot[limit_tot])\n",
    "\n",
    "    Mc_tot = cumsum((mtot[limit_tot])[rtot_indice])\n",
    "    Mtot = Mc_tot[-1]\n",
    "    \n",
    "    masas.append(Mtot)\n",
    "    index.append(i)\n",
    "\n",
    "    #print Mtot\n",
    "    \n"
   ]
  },
  {
   "cell_type": "code",
   "execution_count": 19,
   "metadata": {
    "collapsed": false
   },
   "outputs": [
    {
     "name": "stdout",
     "output_type": "stream",
     "text": [
      "[[  1.10000000e+01   1.49984948e+11]\n",
      " [  1.20000000e+01   9.97102502e+11]\n",
      " [  1.30000000e+01   8.28765831e+11]\n",
      " [  1.40000000e+01   1.28077064e+11]\n",
      " [  1.50000000e+01   1.17392056e+11]\n",
      " [  1.60000000e+01   6.74244792e+11]\n",
      " [  1.70000000e+01   1.20823102e+11]\n",
      " [  1.80000000e+01   8.77340653e+10]\n",
      " [  1.90000000e+01   8.01047149e+10]\n",
      " [  2.00000000e+01   8.57742176e+11]\n",
      " [  2.10000000e+01   6.41783265e+10]\n",
      " [  2.20000000e+01   8.45605671e+10]\n",
      " [  2.30000000e+01   3.87241977e+10]\n",
      " [  2.40000000e+01   3.82306952e+10]\n",
      " [  2.50000000e+01   1.24078439e+11]]\n"
     ]
    }
   ],
   "source": [
    "d = np.ndarray([len(masas),2])\n",
    "d[:,0] = index\n",
    "d[:,1] = masas\n",
    "print d"
   ]
  },
  {
   "cell_type": "code",
   "execution_count": null,
   "metadata": {
    "collapsed": true
   },
   "outputs": [],
   "source": []
  }
 ],
 "metadata": {
  "anaconda-cloud": {},
  "kernelspec": {
   "display_name": "Python [default]",
   "language": "python",
   "name": "python2"
  },
  "language_info": {
   "codemirror_mode": {
    "name": "ipython",
    "version": 2
   },
   "file_extension": ".py",
   "mimetype": "text/x-python",
   "name": "python",
   "nbconvert_exporter": "python",
   "pygments_lexer": "ipython2",
   "version": "2.7.12"
  }
 },
 "nbformat": 4,
 "nbformat_minor": 1
}
