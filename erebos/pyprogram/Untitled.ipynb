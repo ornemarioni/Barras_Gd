{
 "cells": [
  {
   "cell_type": "code",
   "execution_count": 1,
   "metadata": {},
   "outputs": [
    {
     "name": "stdout",
     "output_type": "stream",
     "text": [
      "Populating the interactive namespace from numpy and matplotlib\n"
     ]
    }
   ],
   "source": [
    "%pylab inline"
   ]
  },
  {
   "cell_type": "code",
   "execution_count": null,
   "metadata": {},
   "outputs": [
    {
     "name": "stdout",
     "output_type": "stream",
     "text": [
      "1024 13.72956552 166.840000002\n"
     ]
    }
   ],
   "source": [
    "import pynbody\n",
    "snap = np.loadtxt('/z/dalgorry/snapshots.txt', dtype='string')\n",
    "snap = sorted(snap, reverse=True)\n",
    "\n",
    "halo1 = np.loadtxt('/z/dalgorry/datos_salida2/merger_tree-h1.dat')\n",
    "v = halo1[:,2]\n",
    "v = np.int_(v)\n",
    "\n",
    "fig2=plt.figure(1, figsize=(8,8))\n",
    "fig2.subplots_adjust(bottom=0.12, left =0.16, right = 0.95, top = 0.95)\n",
    "ax2=fig2.add_subplot(111)\n",
    "\n",
    "for j in range(0,len(snap)-1,1):\n",
    "    \n",
    "    s=pynbody.load('/srv/cosmdatc/clues/B64_WM3_186592/LG/GAS_SFR/4096_Gasoline/'+str('%s'%snap[j])+'/WMAP3.CLUES.HR.00'+str('%s'%snap[j]))\n",
    "    h = s.halos()\n",
    "    h1 = h[v[j]]\n",
    "    \n",
    "    time = s.properties['time'].in_units('Gyr')\n",
    "    aexp = s.properties['a']\n",
    "    rvir = h1.properties['Rvir']\n",
    "    rvir = rvir*aexp\n",
    "    \n",
    "    print snap[j], time, rvir\n",
    "\n",
    "    cen_pot = pynbody.analysis.halo.center(h1,mode='pot',retcen=True).in_units('kpc')\n",
    "    x = h1.dm['pos'][:,0].in_units('kpc')-cen_pot[0]\n",
    "    y = h1.dm['pos'][:,1].in_units('kpc')-cen_pot[1]\n",
    "    z = h1.dm['pos'][:,2].in_units('kpc')-cen_pot[2]\n",
    "    r = np.sqrt(x**2+y**2+z**2)\n",
    "\n",
    "    limit,=np.where(r < rvir)\n",
    "    \n",
    "    '''fig1=plt.figure(j, figsize=(8,8))\n",
    "    fig1.subplots_adjust(bottom=0.12, left =0.16, right = 0.95, top = 0.95)\n",
    "    ax1=fig1.add_subplot(111)\n",
    "    ax1.plot(x[limit],y[limit],'.', markersize=0.05, color = 'k')\n",
    "    ax1.set_ylim(-rvir,rvir)\n",
    "    ax1.set_xlim(-rvir,rvir)\n",
    "    ax1.set_xlabel(u'$x[kpc]$', fontsize=26)\n",
    "    ax1.set_ylabel(u'$y[kpc]$', fontsize=26)\n",
    "    ax1.minorticks_on()\n",
    "    ax1.tick_params( labelsize=20)\n",
    "    ax1.tick_params('both', length=3, width=1.2,which='minor')\n",
    "    ax1.tick_params('both', length=6, width=1.2,which='major')\n",
    "    plt.show()'''\n",
    "    \n",
    "    ax2.plot(time,rvir,'.', markersize=0.05, color = 'k')\n",
    "    \n",
    "ax2.set_xlabel(u'$tiempo\\:[Gyr]$', fontsize=26)\n",
    "ax2.set_ylabel(u'$r_{vir}$', fontsize=26)\n",
    "ax2.minorticks_on()\n",
    "ax2.tick_params( labelsize=20)\n",
    "ax2.tick_params('both', length=3, width=1.2,which='minor')\n",
    "ax2.tick_params('both', length=6, width=1.2,which='major')\n",
    "plt.show()"
   ]
  },
  {
   "cell_type": "code",
   "execution_count": null,
   "metadata": {
    "collapsed": true
   },
   "outputs": [],
   "source": []
  }
 ],
 "metadata": {
  "anaconda-cloud": {},
  "kernelspec": {
   "display_name": "Python 2",
   "language": "python",
   "name": "python2"
  },
  "language_info": {
   "codemirror_mode": {
    "name": "ipython",
    "version": 2
   },
   "file_extension": ".py",
   "mimetype": "text/x-python",
   "name": "python",
   "nbconvert_exporter": "python",
   "pygments_lexer": "ipython2",
   "version": "2.7.15"
  }
 },
 "nbformat": 4,
 "nbformat_minor": 2
}
