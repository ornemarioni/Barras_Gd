{
 "cells": [
  {
   "cell_type": "code",
   "execution_count": 1,
   "metadata": {
    "collapsed": false
   },
   "outputs": [
    {
     "name": "stdout",
     "output_type": "stream",
     "text": [
      "Populating the interactive namespace from numpy and matplotlib\n"
     ]
    }
   ],
   "source": [
    "%pylab inline\n"
   ]
  },
  {
   "cell_type": "code",
   "execution_count": 2,
   "metadata": {
    "collapsed": true
   },
   "outputs": [],
   "source": [
    "\"\"\"Reading the simulations\"\"\"\n",
    "\n",
    "import matplotlib.pyplot as plt \n",
    "import numpy as np\n",
    "import pynbody\n",
    "\n",
    "\n",
    "s=pynbody.load('/srv/cosmdatc/clues/B64_WM3_186592/LG/GAS_SFR/4096_Gasoline/1024/WMAP3.CLUES.HR.001024')\n",
    "h = s.halos()"
   ]
  },
  {
   "cell_type": "code",
   "execution_count": 3,
   "metadata": {
    "collapsed": false
   },
   "outputs": [
    {
     "name": "stdout",
     "output_type": "stream",
     "text": [
      "rho_crit= 148.777107863\n",
      "vamos por el halo 1\n",
      "---------------------\n"
     ]
    },
    {
     "name": "stderr",
     "output_type": "stream",
     "text": [
      "/z/dalgorry/miniconda2/lib/python2.7/site-packages/ipykernel/__main__.py:50: RuntimeWarning: divide by zero encountered in divide\n"
     ]
    },
    {
     "name": "stdout",
     "output_type": "stream",
     "text": [
      "delta= 350.000084745 r200= 148.414680028\n",
      "[  0.00000000e+00   3.76742757e-03   4.58405886e-03 ...,   2.29547582e+02\n",
      "   2.29550600e+02   2.29558104e+02]\n",
      "vamos por el halo 2\n",
      "---------------------\n",
      "delta= 349.999356968 r200= 137.256755376\n",
      "[  0.00000000e+00   4.58405886e-03   4.81112831e-03 ...,   2.06307108e+02\n",
      "   2.06321441e+02   2.06328063e+02]\n",
      "vamos por el halo 4\n",
      "---------------------\n",
      "delta= 349.99842483 r200= 109.302304597\n",
      "[  0.00000000e+00   1.12570681e-02   1.17768869e-02 ...,   1.63987941e+02\n",
      "   1.63993281e+02   1.63999724e+02]\n"
     ]
    }
   ],
   "source": [
    "vector = (1,2,4)\n",
    "hh = 0.732\n",
    "G = 4.299e-6\n",
    "H0 = 100*hh/1e3\n",
    "\n",
    "rho_crit = (3*H0**2)/(8*pi*G)\n",
    "print 'rho_crit=', rho_crit\n",
    "\n",
    "for i in range(0,3):\n",
    "    h1 = h[vector[i]]\n",
    "    \n",
    "    cen_pot = pynbody.analysis.halo.center(h1,mode='pot',retcen=True).in_units('kpc')\n",
    "\n",
    "    print 'vamos por el halo', '%s'%vector[i]\n",
    "\n",
    "    xstr=(h1.star['pos'].in_units('kpc'))[:,0] - (cen_pot.in_units('kpc'))[0]\n",
    "    ystr=(h1.star['pos'].in_units('kpc'))[:,1] - (cen_pot.in_units('kpc'))[1]\n",
    "    zstr=(h1.star['pos'].in_units('kpc'))[:,2] - (cen_pot.in_units('kpc'))[2]\n",
    "    rstr = np.sqrt(xstr**2+ystr**2+zstr**2)    \n",
    "        \n",
    "    xgas=(h1.gas['pos'].in_units('kpc'))[:,0] - (cen_pot.in_units('kpc'))[0]\n",
    "    ygas=(h1.gas['pos'].in_units('kpc'))[:,1] - (cen_pot.in_units('kpc'))[1]\n",
    "    zgas=(h1.gas['pos'].in_units('kpc'))[:,2] - (cen_pot.in_units('kpc'))[2]\n",
    "    rgas = np.sqrt(xgas**2+ygas**2+zgas**2)\n",
    "        \n",
    "    xdrk=(h1.dm['pos'].in_units('kpc'))[:,0] - (cen_pot.in_units('kpc'))[0]\n",
    "    ydrk=(h1.dm['pos'].in_units('kpc'))[:,1] - (cen_pot.in_units('kpc'))[1]\n",
    "    zdrk=(h1.dm['pos'].in_units('kpc'))[:,2] - (cen_pot.in_units('kpc'))[2]\n",
    "    rdrk = np.sqrt(xdrk**2+ydrk**2+zdrk**2)\n",
    "\n",
    "    m_str = h1.star['mass'].in_units('Msol')\n",
    "    m_gas = h1.gas['mass'].in_units('Msol')\n",
    "    m_drk = h1.dm['mass'].in_units('Msol')\n",
    "    \n",
    "    print '---------------------'\n",
    "\n",
    "    rtot= concatenate([rstr,rgas,rdrk])\n",
    "\n",
    "    mtot= concatenate([m_str, m_gas, m_drk])\n",
    "\n",
    "    rtot_sort =np.sort(rtot)\n",
    "    rtot_indice = np.argsort(rtot)\n",
    "\n",
    "    Mc_tot = cumsum(mtot[rtot_indice])\n",
    "    #Mtot = Mc_tot[-1]\n",
    "    \n",
    "# calculo el volumen\n",
    "    vol = (4/3)*pi*rtot_sort**3\n",
    "# la densidad\n",
    "    rho = Mc_tot/vol\n",
    "# calculo del delta\n",
    "    delta = rho/rho_crit\n",
    "# aca hago el corte para los delta cerca de 200\n",
    "    corte = np.where((delta-200) < 0.0001)\n",
    "# armo los vectores con ese corte y el r200 es el primero porque como viene en orden me quedo con ese\n",
    "    dd = delta[corte]\n",
    "    rr =rtot_sort[corte]\n",
    "    \n",
    "    print 'delta=', dd[0], 'r200=', rr[0]\n",
    "    print rtot_sort"
   ]
  },
  {
   "cell_type": "code",
   "execution_count": 4,
   "metadata": {
    "collapsed": false
   },
   "outputs": [
    {
     "name": "stdout",
     "output_type": "stream",
     "text": [
      "3.14159265359\n"
     ]
    }
   ],
   "source": [
    "r200 = (189.977454324, 173.656484976, 137.617865798)\n",
    "\n",
    "print pi"
   ]
  },
  {
   "cell_type": "code",
   "execution_count": 5,
   "metadata": {
    "collapsed": false
   },
   "outputs": [
    {
     "name": "stdout",
     "output_type": "stream",
     "text": [
      "3.14159265359\n"
     ]
    }
   ],
   "source": [
    "'''a esto no le des importancia....'''\n",
    "\n",
    "for r in frange(1, max(rtot), 0.5):\n",
    "    \n",
    "        vol = (4/3)*pi*r**3\n",
    "\n",
    "        limit_tot = np.where(rtot<r)\n",
    "        rtot_indice = np.argsort(rtot[limit_tot])\n",
    "\n",
    "        Mc_tot = cumsum((mtot[limit_tot])[rtot_indice])\n",
    "        Mtot = Mc_tot[-1]\n",
    "        \n",
    "        rho = Mtot/vol\n",
    "        \n",
    "        delta = rho/rho_crit\n",
    "        \n",
    "        #print 'delta =', delta, 'r=', rtot_sort[j]\n",
    "        \n",
    "        if (delta-200)<0.1:\n",
    "            print 'delta=', delta, 'r200=', r\n",
    "            break\n",
    "            \n",
    "'''rho_crit= 148.777107863\n",
    "vamos por el halo 1\n",
    "---------------------\n",
    "delta= 199.94638485 r200= 190.0'''            \n",
    "        "
   ]
  },
  {
   "cell_type": "code",
   "execution_count": 42,
   "metadata": {
    "collapsed": false
   },
   "outputs": [
    {
     "name": "stdout",
     "output_type": "stream",
     "text": [
      "2287\n"
     ]
    }
   ],
   "source": [
    "x=frange(1, max(rtot), 0.1)\n",
    "print len(x)"
   ]
  },
  {
   "cell_type": "code",
   "execution_count": 2,
   "metadata": {
    "collapsed": false,
    "scrolled": false
   },
   "outputs": [
    {
     "data": {
      "image/png": "[encoded data removed]",
      "text/plain": [
       "<matplotlib.figure.Figure at 0x7f052790d0d0>"
      ]
     },
     "metadata": {},
     "output_type": "display_data"
    }
   ],
   "source": [
    "'''aca hice los calculos del r200 que tira la simulacion\n",
    "el problema con ese r200 es que no se en que unidades esta\n",
    "no me da la opcion de poner in_units('kpc') asi que nose :/ '''\n",
    "\n",
    "import matplotlib.pyplot as plt\n",
    "import pynbody\n",
    "import h5py\n",
    "\n",
    "vector=(1,2,4)\n",
    "snap = np.loadtxt('/z/dalgorry/snapshots.txt', dtype='string')\n",
    "\n",
    "for j in range(len(snap)-1, 9,-1):\n",
    "    #print 'snap', snap[j]\n",
    "    \n",
    "    #output_file = h5py.File('../outputs/snap_'+str('%s'%snap[j])+'.h5py', 'a')\n",
    "   \n",
    "    s=pynbody.load('/srv/cosmdatc/clues/B64_WM3_186592/LG/GAS_SFR/4096_Gasoline/'+str('%s'%snap[j])+'/WMAP3.CLUES.HR.00'+str('%s'%snap[j]))\n",
    "    h = s.halos()\n",
    "    \n",
    "    for i in range(0,1):\n",
    "        \n",
    "        h1 = h[vector[i]]\n",
    "    \n",
    "        time = h1.properties['time'].in_units('Gyr')\n",
    "        aexp = h1.properties['a']\n",
    "        r200 = h1.properties['Rvir']\n",
    "        r200 = r200*aexp\n",
    "        \n",
    "        fig=plt.figure(i,figsize=(8,8))\n",
    "        fig.subplots_adjust(bottom=0.12, left =0.16, right = 0.95, top = 0.95)\n",
    "        ax=fig.add_subplot(111)\n",
    "        ax.plot(time,r200,'.k')\n",
    "        plt.xlabel(u'$time\\;[Gyr]$', fontsize=24)\n",
    "        plt.ylabel(u'$r200$', fontsize=24)\n",
    "        #plt.ylim(0,200)\n",
    "        #plt.xlim(0,30)\n",
    "        ax.minorticks_on()\n",
    "        ax.tick_params( labelsize=20)\n",
    "        ax.tick_params('both', length=3, width=1.2,which='minor')\n",
    "        ax.tick_params('both', length=6, width=1.2,which='major')\n"
   ]
  },
  {
   "cell_type": "code",
   "execution_count": null,
   "metadata": {
    "collapsed": true
   },
   "outputs": [],
   "source": []
  }
 ],
 "metadata": {
  "anaconda-cloud": {},
  "kernelspec": {
   "display_name": "Python [default]",
   "language": "python",
   "name": "python2"
  },
  "language_info": {
   "codemirror_mode": {
    "name": "ipython",
    "version": 2
   },
   "file_extension": ".py",
   "mimetype": "text/x-python",
   "name": "python",
   "nbconvert_exporter": "python",
   "pygments_lexer": "ipython2",
   "version": "2.7.12"
  }
 },
 "nbformat": 4,
 "nbformat_minor": 1
}
