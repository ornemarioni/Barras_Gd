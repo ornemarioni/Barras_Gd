{
 "cells": [
  {
   "cell_type": "code",
   "execution_count": 1,
   "metadata": {},
   "outputs": [
    {
     "name": "stdout",
     "output_type": "stream",
     "text": [
      "Populating the interactive namespace from numpy and matplotlib\n"
     ]
    }
   ],
   "source": [
    "%pylab inline"
   ]
  },
  {
   "cell_type": "markdown",
   "metadata": {},
   "source": [
    "## ID particulas a z = 0 Gasoline"
   ]
  },
  {
   "cell_type": "code",
   "execution_count": 3,
   "metadata": {},
   "outputs": [],
   "source": [
    "import pynbody\n",
    "\n",
    "path = '/srv/cosmdatc/clues/B64_WM3_186592/LG/GAS_SFR/4096_Gasoline/'\n",
    "s = pynbody.load(path + '1024/WMAP3.CLUES.HR.001024')\n",
    "h = s.halos()\n"
   ]
  },
  {
   "cell_type": "code",
   "execution_count": 14,
   "metadata": {},
   "outputs": [],
   "source": [
    "vector = (1,2,4)\n",
    "vector2 = ('M31', 'MW', 'M33')\n",
    "path2 = '/z/omarioni/Barras_GdGs/erebos/pyprogram/_data/'\n",
    "\n",
    "for i in range(0,3):\n",
    "    h1 = h[vector[i]]\n",
    "\n",
    "    r200  = h1.properties['Rvir']\n",
    "    IDs   = h1.star['iord']\n",
    "    tform = h1.star['tform'].in_units('Gyr')\n",
    "\n",
    "    cen_pot = pynbody.analysis.halo.center(h1,mode='pot',retcen=True).in_units('kpc')\n",
    "\n",
    "    rgal = 0.15*r200\n",
    "\n",
    "    xstr=((h1.star['pos'].in_units('kpc'))[:,0] - cen_pot[0])\n",
    "    ystr=((h1.star['pos'].in_units('kpc'))[:,1] - cen_pot[1])\n",
    "    zstr=((h1.star['pos'].in_units('kpc'))[:,2] - cen_pot[2])\n",
    "     \n",
    "    rstr = np.sqrt(xstr**2 + ystr**2 + zstr**2)    \n",
    "    \n",
    "    limit, = np.where(rstr<rgal)\n",
    "    \n",
    "    rn = rstr[limit]\n",
    "    ID = IDs[limit]\n",
    "    tf = tform[limit]\n",
    "\n",
    "    data = np.zeros([len(rn),3])\n",
    "    data[:,0]= ID\n",
    "    data[:,1]= rn\n",
    "    data[:,2]= tf\n",
    "\n",
    "\n",
    "    np.savetxt(path2 + str('%s'%vector2[i])+'_tform_z0.dat', data, \n",
    "               fmt=('%15d','%12.6f','%12.6f'))"
   ]
  },
  {
   "cell_type": "markdown",
   "metadata": {},
   "source": [
    "## Distancias de las particulas en tform"
   ]
  },
  {
   "cell_type": "code",
   "execution_count": 20,
   "metadata": {},
   "outputs": [],
   "source": [
    "from joblib import Parallel, delayed\n",
    "\n",
    "#------------------------------------------------------------------------\n",
    "vector2 = ('M31', 'MW', 'M33')\n",
    "\n",
    "path2 = '/z/omarioni/Barras_GdGs/erebos/pyprogram/_data/'\n",
    "\n",
    "path = '/srv/cosmdatc/clues/B64_WM3_186592/LG/GAS_SFR/4096_Gasoline/'\n",
    "\n",
    "\n",
    "def sarasa(l):\n",
    "    \n",
    "    file = np.loadtxt(path2 + str('%s'%vector2[l]) +'_tform_z0.dat')\n",
    "    ID    = file[:,0]\n",
    "    tform = file[:,2]\n",
    "    \n",
    "    sort = np.argsort(tform)\n",
    "    \n",
    "    sort_tform = tform[sort][::-1]\n",
    "    sort_ID    = ID[sort][::-1]\n",
    "    \n",
    "    file2 = np.loadtxt(path2 +  str('%s'%vector2[l]) +'_masscenter.dat')\n",
    "    time = file2[:,0]\n",
    "    xcm  = file2[:,1]\n",
    "    ycm  = file2[:,2]\n",
    "    zcm  = file2[:,3]\n",
    "    \n",
    "    \n",
    "    time_aux = np.zeros(len(ID))\n",
    "\n",
    "    k = 1\n",
    "    for i in range(0,len(ID)):\n",
    "        for j in range(k, len(time)):\n",
    "            if sort_tform[i] > time[j]:\n",
    "                time_aux[i] = time[j-1]\n",
    "    #             print time_aux[i]\n",
    "                if time_aux[i] < time_aux[i-1]:\n",
    "                    k = k + 1\n",
    "                break\n",
    "\n",
    "    snapshot = np.loadtxt('/z/omarioni/snapshots.txt', dtype='string') #SNAPSHOTS\n",
    "    isnap = snapshot[::-1]\n",
    "    \n",
    "    archivo = open(path2 + str('%s'%vector2[l]) + '_tform_particles.dat', 'a')\n",
    "\n",
    "    for i in range(0, len(time)):\n",
    "\n",
    "        mask, = np.where(time_aux == time[i])\n",
    "\n",
    "        if len(mask) == 0:\n",
    "            break\n",
    "\n",
    "        s = pynbody.load(path + str('%s'%isnap[i])+'/WMAP3.CLUES.HR.00'+ str('%s'%isnap[i]))\n",
    "\n",
    "        IDs = s.star['iord']\n",
    "        \n",
    "        pstr = s.star['pos'].in_units('kpc')\n",
    "        IDs  = s.star['iord']\n",
    "        tf   = s.star['tform'].in_units('Gyr')\n",
    "\n",
    "        particles = np.isin(IDs, sort_ID[mask])\n",
    "\n",
    "        xstr = (pstr[:,0][particles]-xcm[i])\n",
    "        ystr = (pstr[:,1][particles]-ycm[i])\n",
    "        zstr = (pstr[:,2][particles]-zcm[i])\n",
    "\n",
    "        rstr = np.sqrt(xstr**2 + ystr**2 + zstr**2)\n",
    "\n",
    "        data = np.ndarray([len(mask), 3])\n",
    "        data[:,0] = IDs[particles]\n",
    "        data[:,1] = rstr\n",
    "        data[:,2] = tf[particles]\n",
    "        \n",
    "        np.savetxt(archivo, data, fmt=('%15d','%12.6f','%12.6f'))\n",
    "        \n",
    "    archivo.close()\n",
    "\n",
    "            \n"
   ]
  },
  {
   "cell_type": "code",
   "execution_count": null,
   "metadata": {},
   "outputs": [],
   "source": [
    "with Parallel(n_jobs=3, prefer=\"threads\") as par:\n",
    "    par(delayed(sarasa)(ll)for ll in range(0,3))"
   ]
  },
  {
   "cell_type": "code",
   "execution_count": null,
   "metadata": {},
   "outputs": [],
   "source": []
  }
 ],
 "metadata": {
  "kernelspec": {
   "display_name": "Python 2",
   "language": "python",
   "name": "python2"
  },
  "language_info": {
   "codemirror_mode": {
    "name": "ipython",
    "version": 2
   },
   "file_extension": ".py",
   "mimetype": "text/x-python",
   "name": "python",
   "nbconvert_exporter": "python",
   "pygments_lexer": "ipython2",
   "version": "2.7.14"
  }
 },
 "nbformat": 4,
 "nbformat_minor": 2
}
