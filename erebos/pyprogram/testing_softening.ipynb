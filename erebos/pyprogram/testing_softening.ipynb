{
 "cells": [
  {
   "cell_type": "code",
   "execution_count": 13,
   "metadata": {},
   "outputs": [],
   "source": [
    "\"\"\"Reading the simulations\"\"\"\n",
    "\n",
    "import matplotlib.pyplot as plt \n",
    "import numpy as np\n",
    "import pynbody\n",
    "\n",
    "s=pynbody.load('/srv/cosmdatc/clues/B64_WM3_186592/LG/GAS_SFR/4096_Gasoline/1024/WMAP3.CLUES.HR.001024')"
   ]
  },
  {
   "cell_type": "code",
   "execution_count": 7,
   "metadata": {
    "collapsed": true,
    "jupyter": {
     "outputs_hidden": true
    }
   },
   "outputs": [
    {
     "data": {
      "text/plain": [
       "['HII',\n",
       " 'HeIII',\n",
       " 'ne',\n",
       " 'hetot',\n",
       " 'hydrogen',\n",
       " 'feh',\n",
       " 'oxh',\n",
       " 'ofe',\n",
       " 'mgfe',\n",
       " 'nefe',\n",
       " 'sife',\n",
       " 'c_s',\n",
       " 'c_s_turb',\n",
       " 'mjeans',\n",
       " 'mjeans_turb',\n",
       " 'ljeans',\n",
       " 'ljeans_turb',\n",
       " 'smooth',\n",
       " 'rho',\n",
       " 'r',\n",
       " 'rxy',\n",
       " 'vr',\n",
       " 'v2',\n",
       " 'vt',\n",
       " 'ke',\n",
       " 'te',\n",
       " 'j',\n",
       " 'j2',\n",
       " 'jz',\n",
       " 'vrxy',\n",
       " 'vcxy',\n",
       " 'vphi',\n",
       " 'vtheta',\n",
       " 'v_mean',\n",
       " 'v_disp',\n",
       " 'age',\n",
       " 'u_mag',\n",
       " 'u_lum_den',\n",
       " 'b_mag',\n",
       " 'b_lum_den',\n",
       " 'v_mag',\n",
       " 'v_lum_den',\n",
       " 'r_mag',\n",
       " 'r_lum_den',\n",
       " 'i_mag',\n",
       " 'i_lum_den',\n",
       " 'j_mag',\n",
       " 'j_lum_den',\n",
       " 'h_mag',\n",
       " 'h_lum_den',\n",
       " 'k_mag',\n",
       " 'k_lum_den',\n",
       " 'U_mag',\n",
       " 'U_lum_den',\n",
       " 'B_mag',\n",
       " 'B_lum_den',\n",
       " 'V_mag',\n",
       " 'V_lum_den',\n",
       " 'R_mag',\n",
       " 'R_lum_den',\n",
       " 'I_mag',\n",
       " 'I_lum_den',\n",
       " 'J_mag',\n",
       " 'J_lum_den',\n",
       " 'H_mag',\n",
       " 'H_lum_den',\n",
       " 'K_mag',\n",
       " 'K_lum_den',\n",
       " 'theta',\n",
       " 'alt',\n",
       " 'az',\n",
       " 'cs',\n",
       " 'mu',\n",
       " 'p',\n",
       " 'u',\n",
       " 'temp',\n",
       " 'zeldovich_offset',\n",
       " 'aform',\n",
       " 'tform',\n",
       " 'HI',\n",
       " 'massform',\n",
       " 'HeI',\n",
       " 'coolontime',\n",
       " 'phi',\n",
       " 'pos',\n",
       " 'FeMassFrac',\n",
       " 'iord',\n",
       " 'ESNRate',\n",
       " 'mass',\n",
       " 'OxMassFrac',\n",
       " 'vel',\n",
       " 'eps',\n",
       " 'HeII',\n",
       " 'igasorder']"
      ]
     },
     "execution_count": 7,
     "metadata": {},
     "output_type": "execute_result"
    }
   ],
   "source": [
    "s.all_keys()"
   ]
  },
  {
   "cell_type": "code",
   "execution_count": 17,
   "metadata": {},
   "outputs": [
    {
     "data": {
      "text/plain": [
       "13.729565519987416"
      ]
     },
     "execution_count": 17,
     "metadata": {},
     "output_type": "execute_result"
    }
   ],
   "source": [
    "s.properties['time'].in_units('Gyr')"
   ]
  },
  {
   "cell_type": "code",
   "execution_count": 2,
   "metadata": {},
   "outputs": [
    {
     "data": {
      "text/plain": [
       "SimArray([2.54575298e-06, 2.54575298e-06, 2.54575298e-06, ...,\n",
       "          2.54575298e-06, 2.54575298e-06, 2.54575298e-06], '8.77e+04 kpc a')"
      ]
     },
     "execution_count": 2,
     "metadata": {},
     "output_type": "execute_result"
    }
   ],
   "source": [
    "s.gas['eps']\n"
   ]
  },
  {
   "cell_type": "code",
   "execution_count": 15,
   "metadata": {},
   "outputs": [
    {
     "data": {
      "text/plain": [
       "(array([       0.,        0.,        0.,        0.,        0., 52458765.,\n",
       "               0.,        0.,        0.,        0.]),\n",
       " array([-4.99997454e-01, -3.99997454e-01, -2.99997454e-01, -1.99997454e-01,\n",
       "        -9.99974542e-02,  2.54575298e-06,  1.00002546e-01,  2.00002546e-01,\n",
       "         3.00002546e-01,  4.00002546e-01,  5.00002546e-01]),\n",
       " <a list of 10 Patch objects>)"
      ]
     },
     "execution_count": 15,
     "metadata": {},
     "output_type": "execute_result"
    },
    {
     "data": {
      "image/png": "[encoded data removed]",
      "text/plain": [
       "<Figure size 432x288 with 1 Axes>"
      ]
     },
     "metadata": {
      "needs_background": "light"
     },
     "output_type": "display_data"
    }
   ],
   "source": [
    "import matplotlib.pyplot as plt\n",
    "plt.hist(s.gas['eps'])"
   ]
  },
  {
   "cell_type": "code",
   "execution_count": 10,
   "metadata": {},
   "outputs": [
    {
     "data": {
      "text/plain": [
       "SimArray([5.54344751e-06, 5.54344751e-06, 5.54344751e-06, ...,\n",
       "          1.10422785e-03, 1.10422785e-03, 1.10422785e-03], '8.77e+04 kpc a')"
      ]
     },
     "execution_count": 10,
     "metadata": {},
     "output_type": "execute_result"
    }
   ],
   "source": [
    "s.dark['eps']\n"
   ]
  },
  {
   "cell_type": "code",
   "execution_count": 16,
   "metadata": {},
   "outputs": [
    {
     "data": {
      "text/plain": [
       "(array([6.2388737e+07, 2.1075200e+05, 0.0000000e+00, 3.2304000e+04,\n",
       "        0.0000000e+00, 0.0000000e+00, 0.0000000e+00, 0.0000000e+00,\n",
       "        0.0000000e+00, 2.0836210e+06]),\n",
       " SimArray([5.54344751e-06, 1.15411888e-04, 2.25280328e-04, 3.35148768e-04,\n",
       "           4.45017208e-04, 5.54885648e-04, 6.64754089e-04, 7.74622529e-04,\n",
       "           8.84490969e-04, 9.94359409e-04, 1.10422785e-03], '8.77e+04 kpc a'),\n",
       " <a list of 10 Patch objects>)"
      ]
     },
     "execution_count": 16,
     "metadata": {},
     "output_type": "execute_result"
    },
    {
     "data": {
      "image/png": "[encoded data removed]",
      "text/plain": [
       "<Figure size 432x288 with 1 Axes>"
      ]
     },
     "metadata": {
      "needs_background": "light"
     },
     "output_type": "display_data"
    }
   ],
   "source": [
    "plt.hist(s.dark['eps'])"
   ]
  },
  {
   "cell_type": "code",
   "execution_count": 11,
   "metadata": {},
   "outputs": [
    {
     "data": {
      "text/plain": [
       "SimArray([2.54575298e-06, 2.54575298e-06, 2.54575298e-06, ...,\n",
       "          2.54575298e-06, 2.54575298e-06, 2.54575298e-06], '8.77e+04 kpc a')"
      ]
     },
     "execution_count": 11,
     "metadata": {},
     "output_type": "execute_result"
    }
   ],
   "source": [
    "s.star['eps']"
   ]
  },
  {
   "cell_type": "code",
   "execution_count": 17,
   "metadata": {},
   "outputs": [
    {
     "data": {
      "text/plain": [
       "(array([      0.,       0.,       0.,       0.,       0., 5099485.,\n",
       "              0.,       0.,       0.,       0.]),\n",
       " array([-4.99997454e-01, -3.99997454e-01, -2.99997454e-01, -1.99997454e-01,\n",
       "        -9.99974542e-02,  2.54575298e-06,  1.00002546e-01,  2.00002546e-01,\n",
       "         3.00002546e-01,  4.00002546e-01,  5.00002546e-01]),\n",
       " <a list of 10 Patch objects>)"
      ]
     },
     "execution_count": 17,
     "metadata": {},
     "output_type": "execute_result"
    },
    {
     "data": {
      "image/png": "[encoded data removed]",
      "text/plain": [
       "<Figure size 432x288 with 1 Axes>"
      ]
     },
     "metadata": {
      "needs_background": "light"
     },
     "output_type": "display_data"
    }
   ],
   "source": [
    "plt.hist(s.star['eps'])"
   ]
  },
  {
   "cell_type": "code",
   "execution_count": 26,
   "metadata": {},
   "outputs": [
    {
     "data": {
      "text/plain": [
       "SimArray(0.22318922, 'kpc a')"
      ]
     },
     "execution_count": 26,
     "metadata": {},
     "output_type": "execute_result"
    }
   ],
   "source": [
    "s.gas['eps'].mean().in_units('kpc a')"
   ]
  },
  {
   "cell_type": "code",
   "execution_count": 27,
   "metadata": {},
   "outputs": [
    {
     "data": {
      "text/plain": [
       "SimArray(0.4860007, 'kpc a')"
      ]
     },
     "execution_count": 27,
     "metadata": {},
     "output_type": "execute_result"
    }
   ],
   "source": [
    "s.dark['eps'].min().in_units('kpc a')"
   ]
  },
  {
   "cell_type": "code",
   "execution_count": 4,
   "metadata": {},
   "outputs": [
    {
     "name": "stdout",
     "output_type": "stream",
     "text": [
      "snap 1024\n",
      "eps_gas=  0.22318921842452255\n",
      "eps_drk=  0.4860006957205769\n",
      "snap 1008\n",
      "eps_gas=  0.22318921842452255\n",
      "eps_drk=  0.4860006957205769\n",
      "snap 992\n",
      "eps_gas=  0.22318921842452255\n",
      "eps_drk=  0.4860006957205769\n",
      "snap 976\n",
      "eps_gas=  0.22318921842452255\n",
      "eps_drk=  0.4860006957205769\n",
      "snap 960\n",
      "eps_gas=  0.22318921842452255\n",
      "eps_drk=  0.4860006957205769\n",
      "snap 944\n",
      "eps_gas=  0.22318921842452255\n",
      "eps_drk=  0.4860006957205769\n",
      "snap 928\n",
      "eps_gas=  0.22318921842452255\n",
      "eps_drk=  0.4860006957205769\n",
      "snap 912\n",
      "eps_gas=  0.22318921842452255\n",
      "eps_drk=  0.4860006957205769\n",
      "snap 896\n",
      "eps_gas=  0.22318921842452255\n",
      "eps_drk=  0.4860006957205769\n",
      "snap 880\n",
      "eps_gas=  0.22318921842452255\n",
      "eps_drk=  0.4860006957205769\n",
      "snap 864\n",
      "eps_gas=  0.22318921842452255\n",
      "eps_drk=  0.4860006957205769\n",
      "snap 848\n",
      "eps_gas=  0.22318921842452255\n",
      "eps_drk=  0.4860006957205769\n",
      "snap 832\n",
      "eps_gas=  0.22318921842452255\n",
      "eps_drk=  0.4860006957205769\n",
      "snap 816\n",
      "eps_gas=  0.22318921842452255\n",
      "eps_drk=  0.4860006957205769\n",
      "snap 800\n",
      "eps_gas=  0.22318921842452255\n",
      "eps_drk=  0.4860006957205769\n",
      "snap 784\n",
      "eps_gas=  0.22318921842452255\n",
      "eps_drk=  0.4860006957205769\n",
      "snap 768\n",
      "eps_gas=  0.22318921842452255\n",
      "eps_drk=  0.4860006957205769\n",
      "snap 752\n",
      "eps_gas=  0.22318921842452255\n",
      "eps_drk=  0.4860006957205769\n",
      "snap 736\n",
      "eps_gas=  0.22318921842452255\n",
      "eps_drk=  0.4860006957205769\n",
      "snap 720\n",
      "eps_gas=  0.22318921842452255\n",
      "eps_drk=  0.4860006957205769\n",
      "snap 704\n",
      "eps_gas=  0.22318921842452255\n",
      "eps_drk=  0.4860006957205769\n",
      "snap 688\n",
      "eps_gas=  0.22318921842452255\n",
      "eps_drk=  0.4860006957205769\n",
      "snap 672\n",
      "eps_gas=  0.22318921842452255\n",
      "eps_drk=  0.4860006957205769\n",
      "snap 656\n",
      "eps_gas=  0.22318921842452255\n",
      "eps_drk=  0.4860006957205769\n",
      "snap 640\n",
      "eps_gas=  0.22318921842452255\n",
      "eps_drk=  0.4860006957205769\n",
      "snap 624\n",
      "eps_gas=  0.22318921842452255\n",
      "eps_drk=  0.4860006957205769\n",
      "snap 608\n",
      "eps_gas=  0.22318921842452255\n",
      "eps_drk=  0.4860006957205769\n",
      "snap 592\n",
      "eps_gas=  0.22318921842452255\n",
      "eps_drk=  0.4860006957205769\n",
      "snap 576\n",
      "eps_gas=  0.22318921842452255\n",
      "eps_drk=  0.4860006957205769\n",
      "snap 560\n",
      "eps_gas=  0.22318921842452255\n",
      "eps_drk=  0.4860006957205769\n",
      "snap 544\n",
      "eps_gas=  0.22318921842452255\n",
      "eps_drk=  0.4860006957205769\n",
      "snap 528\n",
      "eps_gas=  0.22318921842452255\n",
      "eps_drk=  0.4860006957205769\n",
      "snap 512\n",
      "eps_gas=  0.22318921842452255\n",
      "eps_drk=  0.4860006957205769\n",
      "snap 496\n",
      "eps_gas=  0.22318921842452255\n",
      "eps_drk=  0.4860006957205769\n",
      "snap 480\n",
      "eps_gas=  0.22318921842452255\n",
      "eps_drk=  0.4860006957205769\n",
      "snap 464\n",
      "eps_gas=  0.22318921842452255\n",
      "eps_drk=  0.4860006957205769\n",
      "snap 453\n",
      "eps_gas=  0.22318921842452255\n",
      "eps_drk=  0.4860006957205769\n",
      "snap 448\n",
      "eps_gas=  0.22318921842452255\n",
      "eps_drk=  0.4860006957205769\n",
      "snap 432\n",
      "eps_gas=  0.22318921842452255\n",
      "eps_drk=  0.4860006957205769\n",
      "snap 416\n",
      "eps_gas=  0.22318921842452255\n",
      "eps_drk=  0.4860006957205769\n",
      "snap 400\n",
      "eps_gas=  0.22318921842452255\n",
      "eps_drk=  0.4860006957205769\n",
      "snap 384\n",
      "eps_gas=  0.22318921842452255\n",
      "eps_drk=  0.4860006957205769\n",
      "snap 368\n",
      "eps_gas=  0.22318921842452255\n",
      "eps_drk=  0.4860006957205769\n",
      "snap 352\n",
      "eps_gas=  0.22318921842452255\n",
      "eps_drk=  0.4860006957205769\n",
      "snap 336\n",
      "eps_gas=  0.22318921842452255\n",
      "eps_drk=  0.4860006957205769\n",
      "snap 320\n",
      "eps_gas=  0.22318921842452255\n",
      "eps_drk=  0.4860006957205769\n",
      "snap 304\n",
      "eps_gas=  0.22318921842452255\n",
      "eps_drk=  0.4860006957205769\n",
      "snap 288\n",
      "eps_gas=  0.22318921842452255\n",
      "eps_drk=  0.4860006957205769\n",
      "snap 272\n",
      "eps_gas=  0.22318921842452255\n",
      "eps_drk=  0.4860006957205769\n",
      "snap 256\n",
      "eps_gas=  0.22318921842452255\n",
      "eps_drk=  0.4860006957205769\n",
      "snap 240\n",
      "eps_gas=  0.22318921842452255\n",
      "eps_drk=  0.4860006957205769\n",
      "snap 224\n",
      "eps_gas=  0.22318921842452255\n",
      "eps_drk=  0.4860006957205769\n",
      "snap 208\n",
      "eps_gas=  0.22318921842452255\n",
      "eps_drk=  0.4860006957205769\n",
      "snap 192\n",
      "eps_gas=  0.22318921842452255\n",
      "eps_drk=  0.4860006957205769\n",
      "snap 176\n",
      "eps_gas=  0.22318921842452255\n",
      "eps_drk=  0.4860006957205769\n",
      "snap 160\n",
      "eps_gas=  0.22318921842452255\n",
      "eps_drk=  0.4860006957205769\n",
      "snap 144\n",
      "eps_gas=  0.22318921842452255\n",
      "eps_drk=  0.4860006957205769\n",
      "snap 128\n",
      "eps_gas=  0.22318921842452255\n",
      "eps_drk=  0.4860006957205769\n",
      "snap 112\n",
      "eps_gas=  0.22318921842452255\n",
      "eps_drk=  0.4860006957205769\n"
     ]
    }
   ],
   "source": [
    "path = '/srv/cosmdatc/clues/B64_WM3_186592/LG/GAS_SFR/4096_Gasoline/'\n",
    "\n",
    "snap = np.loadtxt('/z/omarioni/snapshots.txt',dtype='int')\n",
    "\n",
    "for j in range(len(snap)-1, 0,-1):\n",
    "    print('snap', snap[j])\n",
    "   \n",
    "    s=pynbody.load(path+str('%04d'%snap[j])+'/WMAP3.CLUES.HR.00'+str('%04d'%snap[j]))\n",
    "    \n",
    "    print('eps_gas= ', s.gas['eps'].mean().in_units('kpc a'))\n",
    "    print('eps_drk= ', s.dark['eps'].min().in_units('kpc a'))"
   ]
  },
  {
   "cell_type": "code",
   "execution_count": 35,
   "metadata": {},
   "outputs": [],
   "source": [
    "snap = np.loadtxt('/z/omarioni/snapshots.txt', dtype='int')"
   ]
  },
  {
   "cell_type": "code",
   "execution_count": 36,
   "metadata": {},
   "outputs": [
    {
     "data": {
      "text/plain": [
       "array([  16,  112,  128,  144,  160,  176,  192,  208,  224,  240,  256,\n",
       "        272,  288,  304,  320,  336,  352,  368,  384,  400,  416,  432,\n",
       "        448,  453,  464,  480,  496,  512,  528,  544,  560,  576,  592,\n",
       "        608,  624,  640,  656,  672,  688,  704,  720,  736,  752,  768,\n",
       "        784,  800,  816,  832,  848,  864,  880,  896,  912,  928,  944,\n",
       "        960,  976,  992, 1008, 1024])"
      ]
     },
     "execution_count": 36,
     "metadata": {},
     "output_type": "execute_result"
    }
   ],
   "source": [
    "snap"
   ]
  },
  {
   "cell_type": "code",
   "execution_count": null,
   "metadata": {},
   "outputs": [],
   "source": []
  }
 ],
 "metadata": {
  "kernelspec": {
   "display_name": "Python 3",
   "language": "python",
   "name": "python3"
  },
  "language_info": {
   "codemirror_mode": {
    "name": "ipython",
    "version": 3
   },
   "file_extension": ".py",
   "mimetype": "text/x-python",
   "name": "python",
   "nbconvert_exporter": "python",
   "pygments_lexer": "ipython3",
   "version": "3.6.9"
  }
 },
 "nbformat": 4,
 "nbformat_minor": 4
}
