{
 "cells": [
  {
   "cell_type": "code",
   "execution_count": 1,
   "metadata": {},
   "outputs": [
    {
     "name": "stdout",
     "output_type": "stream",
     "text": [
      "Populating the interactive namespace from numpy and matplotlib\n"
     ]
    }
   ],
   "source": [
    "%pylab inline"
   ]
  },
  {
   "cell_type": "code",
   "execution_count": 3,
   "metadata": {},
   "outputs": [
    {
     "name": "stdout",
     "output_type": "stream",
     "text": [
      "[13.865976 13.865976 13.865976 ...  0.263889  0.247582  0.201457]\n"
     ]
    },
    {
     "ename": "NameError",
     "evalue": "name 'lala' is not defined",
     "output_type": "error",
     "traceback": [
      "\u001b[0;31m---------------------------------------------------------------------------\u001b[0m",
      "\u001b[0;31mNameError\u001b[0m                                 Traceback (most recent call last)",
      "\u001b[0;32m<ipython-input-3-577cfc16cf98>\u001b[0m in \u001b[0;36m<module>\u001b[0;34m()\u001b[0m\n\u001b[1;32m     34\u001b[0m     \u001b[0;32mprint\u001b[0m \u001b[0msort_tform\u001b[0m\u001b[0;34m\u001b[0m\u001b[0m\n\u001b[1;32m     35\u001b[0m \u001b[0;34m\u001b[0m\u001b[0m\n\u001b[0;32m---> 36\u001b[0;31m     \u001b[0mlala\u001b[0m\u001b[0;34m\u001b[0m\u001b[0m\n\u001b[0m\u001b[1;32m     37\u001b[0m     \u001b[0mtime_aux\u001b[0m \u001b[0;34m=\u001b[0m \u001b[0mnp\u001b[0m\u001b[0;34m.\u001b[0m\u001b[0mzeros\u001b[0m\u001b[0;34m(\u001b[0m\u001b[0mlen\u001b[0m\u001b[0;34m(\u001b[0m\u001b[0mID\u001b[0m\u001b[0;34m)\u001b[0m\u001b[0;34m)\u001b[0m\u001b[0;34m\u001b[0m\u001b[0m\n\u001b[1;32m     38\u001b[0m \u001b[0;34m\u001b[0m\u001b[0m\n",
      "\u001b[0;31mNameError\u001b[0m: name 'lala' is not defined"
     ]
    }
   ],
   "source": [
    "import gadget_reader as gd\n",
    "import time_conversion as tiempo\n",
    "from joblib import Parallel, delayed\n",
    "\n",
    "#Parámetros cosmológicos\n",
    "#--------------------------------------------------------------------------\n",
    "h=0.732\n",
    "G = 4.299e-6\n",
    "a0=1.\n",
    "H0 = h*100\n",
    "omega_lambda=0.716\n",
    "omega_matter=0.1277/(h**2.)\n",
    "omega0 = omega_lambda + omega_matter\n",
    "#------------------------------------------------------------------------\n",
    "vector2 = ('M31', 'MW', 'M33')\n",
    "\n",
    "path2 = '/z/omarioni/Barras_GdGs/erebos/pyprogram_4096/'\n",
    "\n",
    "aa = np.loadtxt(path2 + 'redshift_outputs.txt')\n",
    "aexp  = aa[:,2]\n",
    "\n",
    "path  = '/srv/cosmdatc/clues/B64_WM3_186592/LG/GAS_SFR/4096/SNAPS/snap_'\n",
    "\n",
    "Parallel(n_jobs=3, prefer=\"threads\")(\n",
    "\n",
    "for l in np.arange(0,3):\n",
    "    \n",
    "    file = np.loadtxt(path2 + str('%s'%vector2[l]) +'_tform_z0.dat')\n",
    "    ID    = file[:,0]\n",
    "    tform = file[:,2]\n",
    "    \n",
    "    sort = np.argsort(tform)\n",
    "    \n",
    "    sort_tform = tform[sort][::-1]\n",
    "    sort_ID    = ID[sort][::-1]\n",
    "    \n",
    "    file2 = np.loadtxt(path2 +  str('%s'%vector2[l]) +'_masscenter.dat')\n",
    "    time = file2[:,0]\n",
    "    xcm  = file2[:,1]\n",
    "    ycm  = file2[:,2]\n",
    "    zcm  = file2[:,3]\n",
    "    \n",
    "    \n",
    "    time_aux = np.zeros(len(ID))\n",
    "\n",
    "    k = 1\n",
    "    for i in np.arange(0,len(ID)):\n",
    "        for j in np.arrange(k, len(time)):\n",
    "            if sort_tform[i] > time[j]:\n",
    "                time_aux[i] = time[j-1]\n",
    "    #             print time_aux[i]\n",
    "                if time_aux[i] < time_aux[i-1]:\n",
    "                    k = k + 1\n",
    "                break\n",
    "\n",
    "    isnap = np.arange(496,0,-1)\n",
    "    \n",
    "    archivo = open(path2 + str('%s'%vector2[l]) + '_tform_particles.dat', 'a')\n",
    "\n",
    "    for i in np.arange(0, len(time)):\n",
    "\n",
    "        mask, = np.where(time_aux == time[i])\n",
    "\n",
    "        if len(mask) == 0:\n",
    "            break\n",
    "\n",
    "        sim = gd.Open(path + str('%03d'%isnap[i]), endian='Big', gadget_type=2, verbose=False)\n",
    "\n",
    "        pstr = sim.Read('POS ',4)\n",
    "        IDs  = sim.Read('ID  ',4)\n",
    "        tf   = sim.Read('AGE ',4)\n",
    "\n",
    "        z   = a0/tf - 1.\n",
    "        Ht  = H0*np.sqrt(omega_lambda+(1-omega0)*(1+z)**2+omega_matter*(1+z)**3)\n",
    "        tf2 = tiempo.conv(z, h, omega_lambda, omega_matter)\n",
    "\n",
    "\n",
    "        particles = np.isin(IDs, sort_ID[mask])\n",
    "\n",
    "\n",
    "        xstr = (pstr[0,:][particles]-xcm[i])*aexp[isnap[i]]/h\n",
    "        ystr = (pstr[1,:][particles]-ycm[i])*aexp[isnap[i]]/h\n",
    "        zstr = (pstr[2,:][particles]-zcm[i])*aexp[isnap[i]]/h\n",
    "\n",
    "        rstr = np.sqrt(xstr**2 + ystr**2 + zstr**2)\n",
    "\n",
    "        data = np.ndarray([len(mask), 3])\n",
    "        data[:,0] = IDs[particles]\n",
    "        data[:,1] = rstr\n",
    "        data[:,2] = tf2[particles]\n",
    "        \n",
    "        np.savetxt(archivo, data, fmt=('%15d','%12.6f','%12.6f'))\n",
    "        \n",
    "    archivo.close()\n",
    "\n",
    "            \n"
   ]
  },
  {
   "cell_type": "code",
   "execution_count": null,
   "metadata": {},
   "outputs": [],
   "source": []
  }
 ],
 "metadata": {
  "kernelspec": {
   "display_name": "Python 2",
   "language": "python",
   "name": "python2"
  },
  "language_info": {
   "codemirror_mode": {
    "name": "ipython",
    "version": 2
   },
   "file_extension": ".py",
   "mimetype": "text/x-python",
   "name": "python",
   "nbconvert_exporter": "python",
   "pygments_lexer": "ipython2",
   "version": "2.7.14"
  }
 },
 "nbformat": 4,
 "nbformat_minor": 2
}
