{
 "cells": [
  {
   "cell_type": "code",
   "execution_count": 1,
   "metadata": {},
   "outputs": [
    {
     "name": "stdout",
     "output_type": "stream",
     "text": [
      "Populating the interactive namespace from numpy and matplotlib\n"
     ]
    }
   ],
   "source": [
    "%pylab inline"
   ]
  },
  {
   "cell_type": "markdown",
   "metadata": {},
   "source": [
    "## Part barra M31 GADGET"
   ]
  },
  {
   "cell_type": "code",
   "execution_count": 19,
   "metadata": {},
   "outputs": [
    {
     "name": "stdout",
     "output_type": "stream",
     "text": [
      "lbar1= 2.116138 a1= 0.539376 b1= 0.27665 c1= 0.183974\n",
      "lbar2= 1.542296 a2= 0.553309 b2= 0.264433 c2= 0.182258\n"
     ]
    }
   ],
   "source": [
    "import h5py\n",
    "import rotation as rot\n",
    "import tenform as ten\n",
    "from numpy import linalg\n",
    "import barstrength as strng\n",
    "\n",
    "h=0.732\n",
    "G = 4.299e-6\n",
    "a0=1\n",
    "H0 = h*100\n",
    "omega_lambda=0.716\n",
    "omega_matter=0.1277/(h**2.)\n",
    "omega0 = omega_lambda + omega_matter\n",
    "\n",
    "atime = np.loadtxt('/home/ornela/SimCLUES/redshift_outputs.txt')\n",
    "aexp = atime[:,2]\n",
    "aexp = aexp[::-1]\n",
    "\n",
    "data = np.loadtxt('/home/ornela/PYTHON/Barras_GdGs/Barras_Gd/_data/M31_lbarvstime.dat')\n",
    "lbar1 = data[:,1]\n",
    "lbar2 = data[:,2]\n",
    "\n",
    "\n",
    "\n",
    "snap = h5py.File('/home/ornela/SimCLUES/outputs_1/snap_496.h5py', 'r')\n",
    "    \n",
    "cm   = snap['subhalo_000/Center'].value\n",
    "r200 = snap['subhalo_000/R200'].value\n",
    "\n",
    "pstr = snap['subhalo_000/Str/Coordinates'].value\n",
    "mstr = snap['subhalo_000/Str/Masses'].value\n",
    "vel  = snap['subhalo_000/Str/Velocities'].value\n",
    "\n",
    "z = a0/aexp[0] - 1.\n",
    "Ht = H0*np.sqrt(omega_lambda+(1-omega0)*(1+z)**2+omega_matter*(1+z)**3)\n",
    "\n",
    "#---aca paso las coordenadas respecto al centro de la galaxia------\n",
    "xstr = (pstr[:,0]-cm[0])*aexp[0]/h\n",
    "ystr = (pstr[:,1]-cm[1])*aexp[0]/h\n",
    "zstr = (pstr[:,2]-cm[2])*aexp[0]/h\n",
    "rstr = np.sqrt(xstr**2+ystr**2+zstr**2)\n",
    "\n",
    "v_x = vel[:,0] *np.sqrt(aexp[0]) + Ht *xstr/1000.\n",
    "v_y = vel[:,1] *np.sqrt(aexp[0]) + Ht *ystr/1000.\n",
    "v_z = vel[:,2] *np.sqrt(aexp[0]) + Ht *zstr/1000.\n",
    "#----------------------masas----------------------------\n",
    "mstr = mstr/h\n",
    "\n",
    "r200 = r200*aexp[0]/h\n",
    "\n",
    "#         print 'r200 =', r200\n",
    "rgal=0.15*r200\n",
    "\n",
    "limit    = np.where(rstr<rgal)\n",
    "r_sort   = np.sort(rstr[limit])\n",
    "r_indice = np.argsort(rstr[limit])\n",
    "\n",
    "Mgal_str = cumsum((mstr[limit])[r_indice])\n",
    "M_gal = Mgal_str[-1]\n",
    "\n",
    "razon      = Mgal_str/M_gal\n",
    "noventa,   = np.where(razon < 0.9)\n",
    "cincuenta, = np.where(razon < 0.5)\n",
    "\n",
    "r90 = r_sort[noventa][-1]\n",
    "r50 = r_sort[cincuenta][-1]\n",
    "#--------------------------------------------------------------       \n",
    "\n",
    "veloc, = np.where(rstr < r50)\n",
    "\n",
    "vxcm = sum(mstr[veloc]*v_x[veloc])/sum(mstr[veloc])\n",
    "vycm = sum(mstr[veloc]*v_y[veloc])/sum(mstr[veloc])\n",
    "vzcm = sum(mstr[veloc]*v_z[veloc])/sum(mstr[veloc])\n",
    "\n",
    "#velocidades de las estrellas respecto del centro de masa de la galaxia\n",
    "vx = v_x - vxcm\n",
    "vy = v_y - vycm\n",
    "vz = v_z - vzcm\n",
    "\n",
    "#-------------------------------------------------------------------------------------\n",
    "#hago la rotación de las coordenadas respecto del momento angular    \n",
    "\n",
    "e1x,e2x,e3x,e1y,e2y,e3y,e1z,e2z,e3z = rot.rot1(mstr,xstr,ystr,zstr,vx,vy,vz,3*aexp[isnap])\n",
    "\n",
    "xn = e1x*xstr + e1y*ystr + e1z*zstr\n",
    "yn = e2x*xstr + e2y*ystr + e2z*zstr\n",
    "zn = e3x*xstr + e3y*ystr + e3z*zstr\n",
    "vxn = e1x*vx + e1y*vy + e1z*vz\n",
    "vyn = e2x*vx + e2y*vy + e2z*vz\n",
    "vzn = e3x*vx + e3y*vy + e3z*vz\n",
    "\n",
    "corte, = np.where(rstr < 3*aexp[0])\n",
    "\n",
    "A2max, rmax, phimax = strng.a2max(mstr[corte], xn[corte], yn[corte], 20)\n",
    "\n",
    "xx = xn*cos(phimax)+yn*sin(phimax)\n",
    "yy = xn*-sin(phimax)+yn*cos(phimax)\n",
    "zz = zn\n",
    "\n",
    "\n",
    "#----para lbar1--------------------------------------------------------------\n",
    "limit1,=np.where(rstr < lbar1[0])\n",
    "tensor = ten.tenfr(xx[limit1], yy[limit1], zz[limit1], mstr[limit1])\n",
    "\n",
    "#queremos sacar los autovalores\n",
    "matriz = linalg.eig(tensor)\n",
    "autov  = matriz[0]\n",
    "asort  = sort(autov)\n",
    "a1 = asort[2]\n",
    "b1 = asort[1]\n",
    "c1 = asort[0]\n",
    "\n",
    "#----para lbar2--------------------------------------------------------------\n",
    "limit2,=np.where(rstr < lbar2[0])\n",
    "tensor = ten.tenfr(xx[limit2], yy[limit2], zz[limit2], mstr[limit2])\n",
    "\n",
    "#queremos sacar los autovalores\n",
    "matriz = linalg.eig(tensor)\n",
    "autov  = matriz[0]\n",
    "asort  = sort(autov)\n",
    "a2 = asort[2]\n",
    "b2 = asort[1]\n",
    "c2 = asort[0]\n",
    "\n",
    "print 'lbar1=', lbar1[0],'a1=',a1,'b1=', b1, 'c1=',c1\n",
    "print 'lbar2=', lbar2[0],'a2=',a2,'b2=', b2, 'c2=',c2"
   ]
  },
  {
   "cell_type": "code",
   "execution_count": null,
   "metadata": {},
   "outputs": [],
   "source": []
  }
 ],
 "metadata": {
  "kernelspec": {
   "display_name": "Python 2",
   "language": "python",
   "name": "python2"
  },
  "language_info": {
   "codemirror_mode": {
    "name": "ipython",
    "version": 2
   },
   "file_extension": ".py",
   "mimetype": "text/x-python",
   "name": "python",
   "nbconvert_exporter": "python",
   "pygments_lexer": "ipython2",
   "version": "2.7.13"
  }
 },
 "nbformat": 4,
 "nbformat_minor": 2
}
