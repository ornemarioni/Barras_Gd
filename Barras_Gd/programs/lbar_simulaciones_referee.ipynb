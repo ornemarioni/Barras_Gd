{
 "cells": [
  {
   "cell_type": "code",
   "execution_count": 1,
   "metadata": {},
   "outputs": [
    {
     "name": "stdout",
     "output_type": "stream",
     "text": [
      "Populating the interactive namespace from numpy and matplotlib\n"
     ]
    }
   ],
   "source": [
    "%pylab inline"
   ]
  },
  {
   "cell_type": "markdown",
   "metadata": {},
   "source": [
    "### Lbar GADGET"
   ]
  },
  {
   "cell_type": "code",
   "execution_count": 35,
   "metadata": {},
   "outputs": [],
   "source": [
    "import h5py\n",
    "import rotation_mio as rot\n",
    "import time_conversion as tiempo\n",
    "import barstrength2 as strng\n",
    "import scipy.interpolate as sint\n",
    "\n",
    "#Parámetros cosmológicos\n",
    "#--------------------------------------------------------------------------\n",
    "h=0.732\n",
    "G = 4.299e-6\n",
    "a0=1.\n",
    "H0 = h*100\n",
    "omega_lambda=0.716\n",
    "omega_matter=0.1277/(h**2.)\n",
    "omega0 = omega_lambda + omega_matter\n",
    "#---------------------------------------------------------------------------\n",
    "\n",
    "path0 = '/home/omarioni/'\n",
    "aa = np.loadtxt(path0 + 'redshift_outputs.txt')\n",
    "aexp = aa[:,2]\n",
    "\n",
    "# snapshot=range(496,300,-1) #SNAPSHOTS\n",
    "\n",
    "path = '/mnt/is2/alejandro/ornella/'\n",
    "\n",
    "# for isnap in snapshot:\n",
    "\n",
    "isnap=496\n",
    "    \n",
    "snap = h5py.File(path + 'outputs_1/snap_'+str('%03d'%isnap)+'.h5py', 'r')\n",
    "\n",
    "cm   = snap['subhalo_000/Center'][()]\n",
    "r200 = snap['subhalo_000/R200'][()]\n",
    "\n",
    "pstr = snap['subhalo_000/Str/Coordinates'][()]\n",
    "mstr = snap['subhalo_000/Str/Masses'][()]\n",
    "vel  = snap['subhalo_000/Str/Velocities'][()]\n",
    "\n",
    "z     = a0/aexp[isnap] - 1.\n",
    "Ht    = H0*np.sqrt(omega_lambda+(1-omega0)*(1+z)**2+omega_matter*(1+z)**3)\n",
    "time  = tiempo.conv(z, h, omega_lambda, omega_matter)\n",
    "\n",
    "#paso las coordenadas al centro de la galaxia y paso a coordenadas físicas\n",
    "xstr = (pstr[:,0]-cm[0])*aexp[isnap]/h\n",
    "ystr = (pstr[:,1]-cm[1])*aexp[isnap]/h\n",
    "zstr = (pstr[:,2]-cm[2])*aexp[isnap]/h\n",
    "r    = np.sqrt(xstr**2+ystr**2+zstr**2)\n",
    "\n",
    "#paso las velocidades a unidades físicas\n",
    "v_x = vel[:,0] *np.sqrt(aexp[isnap]) + Ht *xstr/1000.\n",
    "v_y = vel[:,1] *np.sqrt(aexp[isnap]) + Ht *ystr/1000.\n",
    "v_z = vel[:,2] *np.sqrt(aexp[isnap]) + Ht *zstr/1000.\n",
    "\n",
    "mstr = mstr/h     #masa a unidades físicas\n",
    "\n",
    "r200 = r200*aexp[isnap]/h #radio virial a unidades fisicas\n",
    "\n",
    "rgal = 0.15*r200          #defino el radio de la galaxia\n",
    "\n",
    "limit = np.where(r<rgal)         #hago un límite de los r dentro de rgal\n",
    "r_sort = np.sort(r[limit])       #acomodo los r de menor a mayor\n",
    "r_indice = np.argsort(r[limit])  #saco los argumentos de r acomodados de menor a mayor\n",
    "\n",
    "Mc_str = cumsum(mstr[limit][r_indice])  #masa acumulada en cada radio dentro de rgal\n",
    "Mgal = Mc_str[-1]  #masa total de la galaxia\n",
    "\n",
    "#Calculo de los radios a 50% y 90% la masa de la galaxia\n",
    "#-----------------------------------------------------------------------\n",
    "razon = Mc_str/Mgal \n",
    "noventa, = np.where(razon < 0.9)\n",
    "cincuenta, = np.where(razon < 0.5)\n",
    "\n",
    "r90 = r_sort[noventa][-1]   #radio a 90% la masa\n",
    "r50 = r_sort[cincuenta][-1] #radio a 50% la masa\n",
    "\n",
    "#componentes de la velocidad del centro de masa\n",
    "veloc, = np.where(r < r50)\n",
    "\n",
    "vxcm = sum(mstr[veloc]*v_x[veloc])/sum(mstr[veloc])\n",
    "vycm = sum(mstr[veloc]*v_y[veloc])/sum(mstr[veloc])\n",
    "vzcm = sum(mstr[veloc]*v_z[veloc])/sum(mstr[veloc])\n",
    "\n",
    "#velocidades de las estrellas respecto del centro de masa de la galaxia\n",
    "vx = v_x - vxcm\n",
    "vy = v_y - vycm\n",
    "vz = v_z - vzcm\n",
    "\n",
    "#-------------------------------------------------------------------------------------\n",
    "#hago la rotación de las coordenadas respecto del momento angular    \n",
    "e1x,e2x,e3x,e1y,e2y,e3y,e1z,e2z,e3z = rot.rot1(mstr,xstr,ystr,zstr,vx,vy,vz,3*aexp[isnap])\n",
    "\n",
    "xn = e1x*xstr + e1y*ystr + e1z*zstr\n",
    "yn = e2x*xstr + e2y*ystr + e2z*zstr\n",
    "zn = e3x*xstr + e3y*ystr + e3z*zstr\n",
    "vxn = e1x*vx + e1y*vy + e1z*vz\n",
    "vyn = e2x*vx + e2y*vy + e2z*vz\n",
    "vzn = e3x*vx + e3y*vy + e3z*vz\n",
    "\n",
    "corte1, = np.where(r<3.*aexp[isnap])\n",
    "corte2, = np.where(r<6.)\n",
    "\n",
    "A2, phi, rbin = strng.a2(mstr[corte2], xn[corte2], yn[corte2], 20)\n",
    "A2max, rmax, phimax = strng.a2max(mstr[corte2], xn[corte2], yn[corte2], 20)\n",
    "#     A2_2, phi, rbin2 = strng.a2(mstr[corte1], xn[corte1], yn[corte1], 20)\n",
    "    \n",
    "#     print isnap\n",
    "    \n",
    "#     if A2max > 0.2:        \n",
    "#         plt.plot(rbin,A2)\n",
    "#         plt.plot(rbin2,A2_2)\n",
    "#         plt.axhline(y=0.15,ls='--', color='r')\n",
    "#         plt.axhline(y=A2max,ls='--', color='g')\n",
    "#         plt.axvline(x=rmax,ls='--', color='g')\n",
    "#         plt.show()\n",
    "#     else:\n",
    "#         print 'no existe'\n",
    "# med = mean(phi[1:5])\n",
    "\n",
    "# #---lbar2---------------------------------------------------------------------------------\n",
    "\n",
    "phi_int = sint.interp1d(rbin,phi)\n",
    "point = np.linspace(rmax,5,1000)\n",
    "\n",
    "rest = np.abs(phi_int(point)-phimax)\n",
    "limit, = np.where(rest>np.arcsin(0.3))\n",
    "\n",
    "lbar2 = point[limit][0]\n",
    "\n",
    "\n",
    "#---lbar 1 ----------------------------------------------------------------------\n",
    "finterp = sint.interp1d(rbin,A2)\n",
    "point = np.linspace(rmax,5,1000)\n",
    "\n",
    "hbar  = 0.15\n",
    "resta = finterp(point) - hbar\n",
    "\n",
    "\n",
    "mask, = np.where(resta < 0.)\n",
    "\n",
    "lbar = point[mask][0]\n",
    "\n",
    "#---lbar 3 ----------------------------------------------------------------------\n",
    "finterp = sint.interp1d(rbin,A2)\n",
    "point = np.linspace(rmax,5,1000)\n",
    "\n",
    "hbar  = 0.25*rmax\n",
    "resta = finterp(point) - hbar\n",
    "\n",
    "\n",
    "mask, = np.where(resta < 0.)\n",
    "\n",
    "lbar3 = point[mask][0]\n",
    "    \n",
    "\n",
    "\n",
    "#lbarvstime2.dat usa la interpolacion de interp1d"
   ]
  },
  {
   "cell_type": "code",
   "execution_count": 36,
   "metadata": {},
   "outputs": [
    {
     "data": {
      "text/plain": [
       "<matplotlib.lines.Line2D at 0x7f6033867210>"
      ]
     },
     "execution_count": 36,
     "metadata": {},
     "output_type": "execute_result"
    },
    {
     "data": {
      "image/png": "[encoded data removed]",
      "text/plain": [
       "<Figure size 432x288 with 1 Axes>"
      ]
     },
     "metadata": {
      "needs_background": "light"
     },
     "output_type": "display_data"
    }
   ],
   "source": [
    "plt.plot(rbin,A2)\n",
    "plt.axvline(x=lbar,color='r')\n",
    "plt.axvline(x=lbar3,color='b')\n",
    "plt.axvline(x=lbar2,color='g')\n",
    "plt.axhline(y=0.25*rmax,color='k',ls='--')\n",
    "plt.axhline(y=0.15,color='k',ls=':')"
   ]
  },
  {
   "cell_type": "code",
   "execution_count": 37,
   "metadata": {},
   "outputs": [
    {
     "data": {
      "text/plain": [
       "<matplotlib.lines.Line2D at 0x7f60337f51d0>"
      ]
     },
     "execution_count": 37,
     "metadata": {},
     "output_type": "execute_result"
    },
    {
     "data": {
      "image/png": "[encoded data removed]",
      "text/plain": [
       "<Figure size 432x288 with 1 Axes>"
      ]
     },
     "metadata": {
      "needs_background": "light"
     },
     "output_type": "display_data"
    }
   ],
   "source": [
    "line1 = phimax + np.arcsin(0.3)\n",
    "line2 = phimax - np.arcsin(0.3)\n",
    "plt.plot(rbin,phi)\n",
    "plt.axvline(x=lbar,color='r')\n",
    "plt.axvline(x=lbar3,color='b')\n",
    "plt.axhline(y=line1,color='gray')\n",
    "plt.axhline(y=line2,color='gray')\n",
    "plt.axvline(x=lbar2,color='g')"
   ]
  },
  {
   "cell_type": "code",
   "execution_count": 45,
   "metadata": {},
   "outputs": [],
   "source": [
    "import h5py\n",
    "import rotation_mio as rot\n",
    "import barstrength2 as strng\n",
    "import scipy.interpolate as sint\n",
    "\n",
    "#Parámetros cosmológicos\n",
    "#--------------------------------------------------------------------------\n",
    "G = 4.299e-6\n",
    "a0=1.\n",
    "#---------------------------------------------------------------------------\n",
    "\n",
    "# path = '/home/ornela/SimCLUES/'\n",
    "path = '/mnt/sersic2/omarioni/'\n",
    "\n",
    "snapshot = np.loadtxt(path + 'Gasoline/snapshots.txt', dtype='string')\n",
    "snapshot = snapshot[::-1]\n",
    "\n",
    "# for j in range(len(snapshot)-1,32,-1):\n",
    "j=0\n",
    "#     path = '/home/ornela/SimCLUES/'\n",
    "snap = h5py.File(path + 'Gasoline/outputs2/snap_'+str('%s'%snapshot[j])+'.h5py', 'r')\n",
    "\n",
    "cm   = snap['subhalo_002/Center'][()]\n",
    "r200 = snap['subhalo_002/R200'][()]\n",
    "time = snap['subhalo_002/Time'][()]\n",
    "h    = snap['subhalo_002/h'][()]\n",
    "aexp = snap['subhalo_002/aexp'][()]\n",
    "\n",
    "pstr = snap['subhalo_002/Str/Coordinates'][()]\n",
    "mstr = snap['subhalo_002/Str/Masses'][()]\n",
    "vel  = snap['subhalo_002/Str/Velocities'][()]\n",
    "\n",
    "#paso las coordenadas al centro de la galaxia\n",
    "xstr = (pstr[:,0]-cm[0])\n",
    "ystr = (pstr[:,1]-cm[1])\n",
    "zstr = (pstr[:,2]-cm[2])\n",
    "r    = np.sqrt(xstr**2+ystr**2+zstr**2)\n",
    "#----------------------------------------------------------------------\n",
    "r200 = r200*aexp\n",
    "rgal = 0.15*r200          #defino el radio de la galaxia\n",
    "\n",
    "limit = np.where(r<rgal)         #hago un límite de los r dentro de rgal\n",
    "r_sort = np.sort(r[limit])       #acomodo los r de menor a mayor\n",
    "r_indice = np.argsort(r[limit])  #saco los argumentos de r acomodados de menor a mayor\n",
    "\n",
    "Mc_str = cumsum(mstr[limit][r_indice])  #masa acumulada en cada radio dentro de rgal\n",
    "Mgal = Mc_str[-1]  #masa total de la galaxia\n",
    "\n",
    "#Calculo de los radios a 50% y 90% la masa de la galaxia\n",
    "#-----------------------------------------------------------------------\n",
    "razon = Mc_str/Mgal \n",
    "noventa, = np.where(razon < 0.9)\n",
    "cincuenta, = np.where(razon < 0.5)\n",
    "\n",
    "r90 = r_sort[noventa][-1]   #radio a 90% la masa\n",
    "r50 = r_sort[cincuenta][-1] #radio a 50% la masa\n",
    "\n",
    "#-----------------------------------------------------------------------\n",
    "\n",
    "#componentes de la velocidad del centro de masa\n",
    "veloc, = np.where(r < r50)\n",
    "\n",
    "vxcm = sum(mstr[veloc]*vel[:,0][veloc])/sum(mstr[veloc])\n",
    "vycm = sum(mstr[veloc]*vel[:,1][veloc])/sum(mstr[veloc])\n",
    "vzcm = sum(mstr[veloc]*vel[:,2][veloc])/sum(mstr[veloc])\n",
    "\n",
    "#velocidades de las estrellas respecto del centro de masa de la galaxia\n",
    "vx = vel[:,0] - vxcm\n",
    "vy = vel[:,1] - vycm\n",
    "vz = vel[:,2] - vzcm\n",
    "\n",
    "#-----------------------------------------------------------------------------------\n",
    "\n",
    "#hago la rotación de las coordenadas respecto del momento angular    \n",
    "e1x,e2x,e3x,e1y,e2y,e3y,e1z,e2z,e3z = rot.rot1(mstr,xstr,ystr,zstr,vx,vy,vz,3*aexp)\n",
    "\n",
    "xn = e1x*xstr + e1y*ystr + e1z*zstr\n",
    "yn = e2x*xstr + e2y*ystr + e2z*zstr\n",
    "zn = e3x*xstr + e3y*ystr + e3z*zstr\n",
    "vxn = e1x*vx + e1y*vy + e1z*vz\n",
    "vyn = e2x*vx + e2y*vy + e2z*vz\n",
    "vzn = e3x*vx + e3y*vy + e3z*vz\n",
    "\n",
    "corte1, = np.where(r<3*aexp)\n",
    "corte2, = np.where(r<6.)\n",
    "\n",
    "A2, phi, rbin = strng.a2(mstr[corte2], xn[corte2], yn[corte2], 20)\n",
    "A2max, rmax, phimax = strng.a2max(mstr[corte2], xn[corte2], yn[corte2], 20)\n",
    "\n",
    "    \n",
    "# #---lbar2---------------------------------------------------------------------------------\n",
    "\n",
    "phi_int = sint.interp1d(rbin,phi)\n",
    "point = np.linspace(rmax,4,1000)\n",
    "\n",
    "rest = np.abs(phi_int(point)-phimax)\n",
    "limit, = np.where(rest>np.arcsin(0.3))\n",
    "\n",
    "lbar2 = point[limit][0]\n",
    "\n",
    "\n",
    "#---lbar 1 ----------------------------------------------------------------------\n",
    "finterp = sint.interp1d(rbin,A2)\n",
    "point = np.linspace(rmax,4,1000)\n",
    "\n",
    "hbar  = 0.15\n",
    "resta = finterp(point) - hbar\n",
    "\n",
    "\n",
    "mask, = np.where(resta < 0.)\n",
    "\n",
    "lbar = point[mask][0]\n",
    "\n",
    "#---lbar 3 ----------------------------------------------------------------------\n",
    "finterp = sint.interp1d(rbin,A2)\n",
    "point = np.linspace(rmax,4,1000)\n",
    "\n",
    "hbar  = 0.25*rmax\n",
    "resta = finterp(point) - hbar\n",
    "\n",
    "\n",
    "mask, = np.where(resta < 0.)\n",
    "\n",
    "lbar3 = point[mask][0]\n",
    "\n"
   ]
  },
  {
   "cell_type": "code",
   "execution_count": 46,
   "metadata": {},
   "outputs": [
    {
     "data": {
      "text/plain": [
       "<matplotlib.lines.Line2D at 0x7f6033b9cbd0>"
      ]
     },
     "execution_count": 46,
     "metadata": {},
     "output_type": "execute_result"
    },
    {
     "data": {
      "image/png": "[encoded data removed]",
      "text/plain": [
       "<Figure size 432x288 with 1 Axes>"
      ]
     },
     "metadata": {
      "needs_background": "light"
     },
     "output_type": "display_data"
    }
   ],
   "source": [
    "plt.plot(rbin,A2)\n",
    "plt.axvline(x=lbar,color='r')\n",
    "plt.axvline(x=lbar3,color='b')\n",
    "plt.axvline(x=lbar2,color='g')\n",
    "plt.axhline(y=0.25*rmax,color='k',ls='--')\n",
    "plt.axhline(y=0.15,color='k',ls=':')"
   ]
  },
  {
   "cell_type": "code",
   "execution_count": 47,
   "metadata": {},
   "outputs": [
    {
     "data": {
      "text/plain": [
       "<matplotlib.lines.Line2D at 0x7f603360d550>"
      ]
     },
     "execution_count": 47,
     "metadata": {},
     "output_type": "execute_result"
    },
    {
     "data": {
      "image/png": "[encoded data removed]",
      "text/plain": [
       "<Figure size 432x288 with 1 Axes>"
      ]
     },
     "metadata": {
      "needs_background": "light"
     },
     "output_type": "display_data"
    }
   ],
   "source": [
    "line1 = phimax + np.arcsin(0.3)\n",
    "line2 = phimax - np.arcsin(0.3)\n",
    "plt.plot(rbin,phi)\n",
    "plt.axvline(x=lbar,color='r')\n",
    "plt.axvline(x=lbar3,color='b')\n",
    "plt.axhline(y=line1,color='gray')\n",
    "plt.axhline(y=line2,color='gray')\n",
    "plt.axvline(x=lbar2,color='g')"
   ]
  },
  {
   "cell_type": "code",
   "execution_count": null,
   "metadata": {},
   "outputs": [],
   "source": []
  }
 ],
 "metadata": {
  "kernelspec": {
   "display_name": "Python 2",
   "language": "python",
   "name": "python2"
  },
  "language_info": {
   "codemirror_mode": {
    "name": "ipython",
    "version": 2
   },
   "file_extension": ".py",
   "mimetype": "text/x-python",
   "name": "python",
   "nbconvert_exporter": "python",
   "pygments_lexer": "ipython2",
   "version": "2.7.17"
  }
 },
 "nbformat": 4,
 "nbformat_minor": 2
}
