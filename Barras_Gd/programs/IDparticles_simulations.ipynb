{
 "cells": [
  {
   "cell_type": "code",
   "execution_count": 1,
   "metadata": {},
   "outputs": [
    {
     "name": "stdout",
     "output_type": "stream",
     "text": [
      "Populating the interactive namespace from numpy and matplotlib\n"
     ]
    }
   ],
   "source": [
    "%pylab inline"
   ]
  },
  {
   "cell_type": "markdown",
   "metadata": {},
   "source": [
    "## Primero guardamos las coordenadas del centro de masa para cada tiempo"
   ]
  },
  {
   "cell_type": "markdown",
   "metadata": {},
   "source": [
    "### Gadget"
   ]
  },
  {
   "cell_type": "code",
   "execution_count": 10,
   "metadata": {},
   "outputs": [],
   "source": [
    "import matplotlib.pyplot as plt\n",
    "import h5py\n",
    "import rotation as rot\n",
    "import sphviewer as sph\n",
    "import numpy as np\n",
    "import time_conversion as tiempo\n",
    "\n",
    "vector = ('00','01','03')\n",
    "vector2 = ('M31', 'MW', 'M33')\n",
    "h=0.732\n",
    "G = 4.299e-6\n",
    "a0=1\n",
    "H0 = h*100\n",
    "omega_lambda=0.716\n",
    "omega_matter=0.1277/(h**2.)\n",
    "omega0 = omega_lambda + omega_matter\n",
    "\n",
    "# path = '/home/ornela/SimCLUES/'\n",
    "path = '/home/omarioni/'\n",
    "atime = np.loadtxt(path + 'redshift_outputs.txt')\n",
    "aexp = atime[:,2]\n",
    "aexp = aexp[::-1]\n",
    "\n",
    "path = '/mnt/is2/alejandro/ornella/'\n",
    "\n",
    "snapshot=range(496,495,-1)\n",
    "\n",
    "for isnap in snapshot:\n",
    "    snap = h5py.File(path + 'outputs_1/snap_'+str('%03d'%isnap)+'.h5py', 'r')\n",
    "    \n",
    "    for i in range(0,3):\n",
    "        cm   = snap['subhalo_0'+ str('%s'%vector[i])+ '/Center'].value\n",
    "        r200 = snap['subhalo_0'+ str('%s'%vector[i])+ '/R200'].value\n",
    "        \n",
    "        pstr  = snap['subhalo_0'+ str('%s'%vector[i]) + '/Str/Coordinates'].value\n",
    "        mstr  = snap['subhalo_0'+ str('%s'%vector[i]) + '/Str/Masses'].value\n",
    "        vel   = snap['subhalo_0'+ str('%s'%vector[i])+ '/Str/Velocities'].value\n",
    "        IDs   = snap['subhalo_0'+ str('%s'%vector[i])+ '/Str/Ids'].value\n",
    "        tform = snap['subhalo_0'+ str('%s'%vector[i])+ '/Str/FormationTime'].value\n",
    "        \n",
    "        z = a0/tform - 1.\n",
    "        Ht = H0*np.sqrt(omega_lambda+(1-omega0)*(1+z)**2+omega_matter*(1+z)**3)\n",
    "        tform = tiempo.conv(z, h, omega_lambda, omega_matter)  \n",
    "        \n",
    "#---aca paso las coordenadas respecto al centro de la galaxia------\n",
    "        xstr = (pstr[:,0]-cm[0])*aexp[0]/h\n",
    "        ystr = (pstr[:,1]-cm[1])*aexp[0]/h\n",
    "        zstr = (pstr[:,2]-cm[2])*aexp[0]/h\n",
    "        rstr = np.sqrt(xstr**2+ystr**2+zstr**2)\n",
    "        \n",
    "        r200 = r200*aexp[0]/h\n",
    "        \n",
    "        rgal=0.15*r200\n",
    "        \n",
    "        limit, = np.where(rstr<rgal)\n",
    "        \n",
    "        rn = rstr[limit]\n",
    "        ID = IDs[limit]\n",
    "        tf = tform[limit]\n",
    "        \n",
    "#----------------------------------------------------------------------------------\n",
    "\n",
    "        data = np.zeros([np.size(rn),3])\n",
    "        data[:,0]= ID\n",
    "        data[:,1]= rn\n",
    "        data[:,2]= tf\n",
    "        \n",
    "        \n",
    "        np.savetxt('/home/omarioni/Barras_GdGs/Barras_Gd/_data/'+str('%s'%vector2[i])+'_tform_z0.dat', data, fmt='%12.6f')"
   ]
  },
  {
   "cell_type": "code",
   "execution_count": null,
   "metadata": {},
   "outputs": [],
   "source": []
  },
  {
   "cell_type": "code",
   "execution_count": 7,
   "metadata": {},
   "outputs": [],
   "source": [
    "import matplotlib.pyplot as plt\n",
    "import h5py\n",
    "import rotation as rot\n",
    "import sphviewer as sph\n",
    "import numpy as np\n",
    "import time_conversion as tiempo\n",
    "\n",
    "vector = ('00','01','03')\n",
    "vector2 = ('M31', 'MW', 'M33')\n",
    "h=0.732\n",
    "G = 4.299e-6\n",
    "a0=1\n",
    "H0 = h*100\n",
    "omega_lambda=0.716\n",
    "omega_matter=0.1277/(h**2.)\n",
    "omega0 = omega_lambda + omega_matter\n",
    "\n",
    "# path = '/home/ornela/SimCLUES/'\n",
    "path = '/home/omarioni/'\n",
    "atime = np.loadtxt(path + 'redshift_outputs.txt')\n",
    "aexp = atime[:,2]\n",
    "\n",
    "path = '/mnt/is2/alejandro/ornella/'\n",
    "\n",
    "snapshot=range(496,0,-1)\n",
    "\n",
    "for isnap in snapshot:\n",
    "    snap = h5py.File(path + 'outputs_1/snap_'+str('%03d'%isnap)+'.h5py', 'r')\n",
    "    \n",
    "    for i in range(0,3):\n",
    "        cm   = snap['subhalo_0'+ str('%s'%vector[i])+ '/Center'].value\n",
    "         \n",
    "        z = a0/aexp[isnap] - 1.\n",
    "        Ht = H0*np.sqrt(omega_lambda+(1-omega0)*(1+z)**2+omega_matter*(1+z)**3)\n",
    "        time = tiempo.conv(z, h, omega_lambda, omega_matter)  \n",
    "\n",
    "#----------------------------------------------------------------------------------\n",
    "\n",
    "        path2 = '/home/omarioni/Barras_GdGs/Barras_Gd/_data/'\n",
    "        archivo1 =  open(path2 + str('%s'%vector2[i])+'_masscenter.dat','a')\n",
    "        archivo1.write(str('%12.6f'% time) +'\\t'+\n",
    "                str('%12.6f'% cm[0]) +'\\t'+\n",
    "                str('%12.6f'% cm[1]) +'\\t'+\n",
    "                str('%12.6f'% cm[2]) +'\\n')\n",
    "        archivo1.close()"
   ]
  },
  {
   "cell_type": "code",
   "execution_count": null,
   "metadata": {},
   "outputs": [],
   "source": []
  }
 ],
 "metadata": {
  "kernelspec": {
   "display_name": "Python 2",
   "language": "python",
   "name": "python2"
  },
  "language_info": {
   "codemirror_mode": {
    "name": "ipython",
    "version": 2
   },
   "file_extension": ".py",
   "mimetype": "text/x-python",
   "name": "python",
   "nbconvert_exporter": "python",
   "pygments_lexer": "ipython2",
   "version": "2.7.13"
  }
 },
 "nbformat": 4,
 "nbformat_minor": 2
}
