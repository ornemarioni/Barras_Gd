{
 "cells": [
  {
   "cell_type": "code",
   "execution_count": 1,
   "metadata": {
    "collapsed": false
   },
   "outputs": [
    {
     "name": "stdout",
     "output_type": "stream",
     "text": [
      "Populating the interactive namespace from numpy and matplotlib\n"
     ]
    }
   ],
   "source": [
    "%pylab inline"
   ]
  },
  {
   "cell_type": "code",
   "execution_count": 2,
   "metadata": {
    "collapsed": true
   },
   "outputs": [],
   "source": [
    "import numpy as np\n",
    "\n",
    "def conv(z, h, omega_lambda, omega_matter):\n",
    "\n",
    "    H0=100*h\n",
    "#conversion Mpc --> km\n",
    "    conv1=1./(1e6*206265*1.496e8)\n",
    "#conversion de s --> Gyr\n",
    "    conv2=3600*24*365.25*1e9\n",
    "    H0=H0*conv1*conv2\n",
    "\n",
    "    c1=np.sqrt(omega_lambda*(1.+z)**(-3.))+np.sqrt((omega_lambda*(1.+z)**(-3.))+omega_matter)\n",
    "    ln=np.log(c1/np.sqrt(omega_matter))\n",
    "    c2=2./(3.*np.sqrt(omega_lambda))\n",
    "        \n",
    "    time = (1./H0)*c2*ln\n",
    "\n",
    "    return time\n"
   ]
  },
  {
   "cell_type": "code",
   "execution_count": 22,
   "metadata": {
    "collapsed": false
   },
   "outputs": [
    {
     "data": {
      "text/plain": [
       "<matplotlib.figure.Figure at 0x7f6e2561de50>"
      ]
     },
     "metadata": {},
     "output_type": "display_data"
    }
   ],
   "source": [
    "import matplotlib.pyplot as plt\n",
    "import h5py\n",
    "import rotation as rot\n",
    "import sphviewer as sph\n",
    "import numpy as np\n",
    "\n",
    "h=0.732\n",
    "G = 4.299e-6\n",
    "a0=1\n",
    "H0 = h*100\n",
    "omega_lambda=0.716\n",
    "omega_matter=0.1277/(h**2.)\n",
    "omega0 = omega_lambda + omega_matter\n",
    "vector2 = ('M31','MW','M33')\n",
    "vector = ('00','01','03')\n",
    "\n",
    "snapshot=range(273,10,-1)\n",
    "for isnap in ([497]+snapshot):\n",
    "    snap = h5py.File('/home/ornela/python/ornella/outputs_1/snap_'+str('%03d'%isnap)+'.h5py', 'r')\n",
    "    #print isnap\n",
    "    for i in range(0,1):\n",
    "        cm   = snap['subhalo_0'+ str('%s' %vector[i])+ '/Center'].value\n",
    "        r200 = snap['subhalo_0'+ str('%s' %vector[i])+ '/R200'].value\n",
    "        aexp = snap['subhalo_0'+ str('%s' %vector[i])+ '/Time'].value\n",
    "\n",
    "        pstr = snap['subhalo_0'+ str('%s'%vector[i]) + '/Str/Coordinates'].value\n",
    "        pgas = snap['subhalo_0'+ str('%s'%vector[i]) + '/Gas/Coordinates'].value\n",
    "        masa_str = snap['subhalo_0'+ str('%s' %vector[i]) + '/Str/Masses'].value\n",
    "        masa_gas = snap['subhalo_0'+ str('%s' %vector[i]) + '/Gas/Masses'].value\n",
    "        vel  = snap['subhalo_0'+ str('%s' %vector[i])+ '/Str/Velocities'].value\n",
    "\n",
    "        z = a0/aexp - 1.\n",
    "        Ht = H0*np.sqrt(omega_lambda+(1-omega0)*(1+z)**2+omega_matter*(1+z)**3)\n",
    "        t = conv(z, h, omega_lambda, omega_matter)\n",
    "    #---aca paso las coordenadas respecto al centro de la galaxia------\n",
    "        xstr = (pstr[:,0]-cm[0])*aexp/h\n",
    "        ystr = (pstr[:,1]-cm[1])*aexp/h\n",
    "        zstr = (pstr[:,2]-cm[2])*aexp/h\n",
    "        r = np.sqrt(xstr**2+ystr**2+zstr**2)\n",
    "        \n",
    "        xgas = (pgas[:,0]-cm[0])*aexp\n",
    "        ygas = (pgas[:,1]-cm[1])*aexp\n",
    "        zgas = (pgas[:,2]-cm[2])*aexp\n",
    "        r_gas = np.sqrt(xgas**2+ygas**2+zgas**2)\n",
    "\n",
    "        v_x = vel[:,0] *np.sqrt(aexp) + Ht *xstr/1000.\n",
    "        v_y = vel[:,1] *np.sqrt(aexp) + Ht *ystr/1000.\n",
    "        v_z = vel[:,2] *np.sqrt(aexp) + Ht *zstr/1000.\n",
    "\n",
    "    #----------------------masas----------------------------\n",
    "        masa_str = masa_str/h\n",
    "\n",
    "        r200 = r200*aexp/h\n",
    "        rgal=0.15*r200\n",
    "\n",
    "        limit = np.where(r<rgal)\n",
    "        r_sort = np.sort(r[limit])\n",
    "        r_indice = np.argsort(r[limit])\n",
    "\n",
    "        Mc_str = cumsum((masa_str[limit])[r_indice])\n",
    "        M_gal = Mc_str[-1]\n",
    "\n",
    "    #------------------ calculamos M90------------------------------------------\n",
    "        razon = Mc_str/M_gal\n",
    "        noventa, = np.where(razon < 0.9)\n",
    "        cincuenta, = np.where(razon < 0.5)\n",
    "\n",
    "        r90 = r_sort[noventa]\n",
    "        r50 = r_sort[cincuenta]\n",
    "        M90 = Mc_str[noventa]                \n",
    "\n",
    "    #------------------masa total en r200 (Mvir)--------------------------         \n",
    "        corte,=np.where(r<r90[-1])\n",
    "        veloc,=np.where(r<r50[-1])\n",
    "\n",
    "    #----------componentes de la velocidad del centro de masa------------\n",
    "        vxcm = sum(masa_str[veloc]*v_x[veloc])/sum(masa_str[veloc])\n",
    "        vycm = sum(masa_str[veloc]*v_y[veloc])/sum(masa_str[veloc])\n",
    "        vzcm = sum(masa_str[veloc]*v_z[veloc])/sum(masa_str[veloc])\n",
    "\n",
    "    #----- velocidades de las estrellas respecto del centro de masa de la galaxia---------\n",
    "        vx = vel[:,0] - vxcm\n",
    "        vy = vel[:,1] - vycm\n",
    "        vz = vel[:,2] - vzcm\n",
    "        \n",
    "        if isnap == 497:\n",
    "            e1x,e2x,e3x,e1y,e2y,e3y,e1z,e2z,e3z = rot.rot1(masa_str,xstr,ystr,zstr,vx,vy,vz,r90[-1])\n",
    "\n",
    "    ##posiciones de partículas que se quiere graficar\n",
    "    ##como lo de arriba me da los versores hago las posiciones con esto \n",
    "\n",
    "        xn = e1x*xgas + e1y*ygas + e1z*zgas\n",
    "        yn = e2x*xgas + e2y*ygas + e2z*zgas\n",
    "        zn = e3x*xgas + e3y*ygas + e3z*zgas\n",
    "        vxn = e1x*vx + e1y*vy + e1z*vz\n",
    "        vyn = e2x*vx + e2y*vy + e2z*vz\n",
    "        vzn = e3x*vx + e3y*vy + e3z*vz\n",
    "\n",
    "        pos=np.ndarray([3,np.size(xn)])\n",
    "        pos[0,:]=xn\n",
    "        pos[1,:]=yn\n",
    "        pos[2,:]=zn\n",
    "\n",
    "    #---------------------generador del gráfico-----------------\n",
    "        rl=50   \n",
    "        corte,=np.where((xn<rl) & (yn<rl) & (zn<rl) & (xn>-rl) & (yn>-rl) & (zn>-rl))\n",
    "\n",
    "    #-----rango que tiene la escala  de colores-----\n",
    "        vmin=1\n",
    "        vmax=7\n",
    "\n",
    "    # ----escala de colores que te guste (http://matplotlib.org/examples/color/colormaps_reference.html)---\n",
    "        cmap='gnuplot'\n",
    "\n",
    "    #-----grafico-----------\n",
    "        fig=plt.figure(1,figsize=(8,8))\n",
    "        fig.subplots_adjust(bottom=0.12, left =0.16, right = 0.95, top = 0.95)\n",
    "\n",
    "        particles=sph.Particles(pos[:,corte],masa_gas[corte]*1e10,nb=50)\n",
    "        escena=sph.Scene(particles)\n",
    "        escena.update_camera(r='infinity',x=0,y=0,z=0,extent=[-rl,rl,-rl,rl])\n",
    "        rend=sph.Render(escena)\n",
    "        extent=escena.get_extent()\n",
    "        rend.set_logscale()\n",
    "\n",
    "        ax1=fig.add_subplot(111)\n",
    "        plt.imshow(rend.get_image(),extent=extent,origin='lower',cmap=cmap, vmin=vmin, vmax= vmax)\n",
    "        #plt.axis('off')\n",
    "        #ax1.set_title('Gadget - '+ str('%s'%vector2[i]), fontsize=18)\n",
    "        ax1.set_xticklabels([])\n",
    "        ax1.set_yticklabels([])\n",
    "        #plt.xlabel('$x$'+' $[kpc]$', fontsize=26)\n",
    "        #plt.ylabel('$y$'+' $[kpc]$', fontsize=30)\n",
    "        ax1.minorticks_on()\n",
    "        ax1.tick_params( labelsize=24)\n",
    "        ax1.tick_params('both', length=5, width=1.8,which='minor')\n",
    "        ax1.tick_params('both', length=8, width=1.8,which='major')\n",
    "        plt.text(-47, 45,'GADGET-'+'%s'%vector2[i], fontsize=24, color='yellow', ha='left', va='center') \n",
    "                 #bbox={'facecolor':'black', 'alpha':1, 'pad':2})\n",
    "        plt.annotate(\"\",xy=(20, -47), xycoords='data',xytext=(45, -47),textcoords='data',\n",
    "                      ha='center', va='center', \n",
    "                     arrowprops=dict(arrowstyle=\"|-|\", connectionstyle='arc3', color ='white', lw=2.5))\n",
    "\n",
    "        plt.text(32.5, -47, '25 kpc', fontsize=24, color='white', ha='center', va='bottom')\n",
    "        plt.text(-45, -45, str('%.3f'%t)+'Gyr', fontsize=24, color='white', ha='left', va='center')\n",
    "\n",
    "\n",
    "        '''particles=sph.Particles(pos[:,corte],masa_str[corte]*1e10,nb=50)\n",
    "        escena=sph.Scene(particles)\n",
    "        escena.update_camera(r='infinity',x=0,y=0,z=0,extent=[-rl,rl,-rl,rl], t=90)\n",
    "        rend=sph.Render(escena)\n",
    "        extent=escena.get_extent()\n",
    "        rend.set_logscale()\n",
    "\n",
    "        ax2=fig.add_subplot(212)\n",
    "        plt.imshow(rend.get_image(),extent=extent,origin='lower',cmap=cmap, vmin=vmin, vmax= vmax)\n",
    "        #plt.axis('off')\n",
    "        plt.xlabel('$x$'+' $[kpc]$', fontsize=30)\n",
    "        plt.ylabel('$z$'+' $[kpc]$', fontsize=30)\n",
    "        ax2.minorticks_on()\n",
    "        ax2.tick_params( labelsize=24)\n",
    "        ax2.tick_params('both', length=5, width=1.8,which='minor')\n",
    "        ax2.tick_params('both', length=8, width=1.8,which='major')\n",
    "        #plt.text(12.5, 12.5, str('%.3f'%t)+'Gyr', fontsize=22, color='white', ha='left', va='top')''' \n",
    "\n",
    "\n",
    "        fig.savefig('/home/ornela/python/sem2/M31_gas/'+str('%03d'%isnap)+'-M31.png', facecolor= 'k', edgecolor='k', frameon= 'False',bbox_inches='tight',pad_inches=0, dpi = 100)\n",
    "        #fig.savefig('/home/ornela/Escritorio/mi_tesis/Figures/starGD_'+str('%s'%vector2[i])+'.png', dpi = 100)\n",
    "        #plt.show()\n",
    "        plt.clf()"
   ]
  },
  {
   "cell_type": "code",
   "execution_count": 21,
   "metadata": {
    "collapsed": false
   },
   "outputs": [
    {
     "name": "stdout",
     "output_type": "stream",
     "text": [
      "[47, 0, 1, 2, 3, 4, 5, 6, 7, 8, 9]\n"
     ]
    }
   ],
   "source": [
    "x = range(0,10)\n",
    "y = [47]\n",
    "print y+x"
   ]
  },
  {
   "cell_type": "code",
   "execution_count": null,
   "metadata": {
    "collapsed": true
   },
   "outputs": [],
   "source": []
  }
 ],
 "metadata": {
  "kernelspec": {
   "display_name": "Python 2",
   "language": "python",
   "name": "python2"
  },
  "language_info": {
   "codemirror_mode": {
    "name": "ipython",
    "version": 2
   },
   "file_extension": ".py",
   "mimetype": "text/x-python",
   "name": "python",
   "nbconvert_exporter": "python",
   "pygments_lexer": "ipython2",
   "version": "2.7.13"
  }
 },
 "nbformat": 4,
 "nbformat_minor": 2
}
